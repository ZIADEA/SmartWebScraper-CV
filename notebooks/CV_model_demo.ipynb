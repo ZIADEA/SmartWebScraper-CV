{
 "cells": [
  {
   "cell_type": "markdown",
   "id": "9ccb770f",
   "metadata": {},
   "source": [
    "Imports utiles"
   ]
  },
  {
   "cell_type": "code",
   "execution_count": null,
   "id": "eba8915b",
   "metadata": {},
   "outputs": [],
   "source": [
    "import os\n",
    "import cv2\n",
    "import numpy as np\n",
    "import torch\n",
    "import pickle\n",
    "import json\n",
    "from PIL import Image\n",
    "from io import BytesIO\n",
    "from detectron2.config import get_cfg\n",
    "from detectron2.engine import DefaultPredictor\n",
    "from detectron2.data import MetadataCatalog\n",
    "from playwright.sync_api import sync_playwright\n"
   ]
  },
  {
   "cell_type": "markdown",
   "id": "4f68e1bd",
   "metadata": {},
   "source": [
    "Capture d'écran depuis un lien avec Playwright"
   ]
  },
  {
   "cell_type": "code",
   "execution_count": null,
   "metadata": {},
   "outputs": [],
   "source": [
    "def capture_screenshot(url, save_path, width=1583, height=2048):\n",
    "    with sync_playwright() as p:\n",
    "        browser = p.chromium.launch(headless=True)\n",
    "        page = browser.new_page(viewport={\"width\": width, \"height\": height})\n",
    "        page.goto(url, timeout=15000)\n",
    "        page.evaluate(\"window.scrollTo(0, document.body.scrollHeight)\")\n",
    "        page.wait_for_timeout(3000)\n",
    "        page.screenshot(path=save_path, full_page=True)\n",
    "        browser.close()\n",
    "\n",
    "# Exécution\n",
    "url = \"https://exemple.com\"\n",
    "img_path = \"screenshot.jpg\"\n",
    "capture_screenshot(url, img_path)\n"
   ]
  },
  {
   "cell_type": "markdown",
   "id": "082d93f2",
   "metadata": {},
   "source": [
    "Resize de l'image pour la prédiction"
   ]
  },
  {
   "cell_type": "code",
   "execution_count": null,
   "metadata": {},
   "outputs": [],
   "source": [
    "# Résolutions\n",
    "TARGET_WIDTH = 1024\n",
    "TARGET_HEIGHT = 1024\n",
    "\n",
    "# Chargement image\n",
    "img_original = cv2.imread(img_path)\n",
    "orig_h, orig_w = img_original.shape[:2]\n",
    "img_resized = cv2.resize(img_original, (TARGET_WIDTH, TARGET_HEIGHT))\n",
    "cv2.imwrite(\"resized_input.jpg\", img_resized)\n",
    "\n",
    "# Sauvegarde des scale ratios\n",
    "scale_x = orig_w / TARGET_WIDTH\n",
    "scale_y = orig_h / TARGET_HEIGHT\n"
   ]
  },
  {
   "cell_type": "markdown",
   "id": "3f8fd710",
   "metadata": {},
   "source": [
    "Chargement du modèle fine-tuné"
   ]
  },
  {
   "cell_type": "code",
   "execution_count": null,
   "id": "b3bee4e9",
   "metadata": {},
   "outputs": [],
   "source": [
    "# Chargement de la configuration et du modèle\n",
    "with open(\"output_detectron_web/config.pkl\", \"rb\") as f:\n",
    "    cfg = pickle.load(f)\n",
    "\n",
    "cfg.MODEL.WEIGHTS = os.path.join(cfg.OUTPUT_DIR, \"model_final.pth\")\n",
    "predictor = DefaultPredictor(cfg)\n",
    "\n",
    "# Chargement des metadata\n",
    "with open(\"output_detectron_web/metadata.pkl\", \"rb\") as f:\n",
    "    metadata = pickle.load(f)\n"
   ]
  },
  {
   "cell_type": "markdown",
   "id": "8dec6720",
   "metadata": {},
   "source": [
    "Prédiction sur l’image resize"
   ]
  },
  {
   "cell_type": "code",
   "execution_count": null,
   "metadata": {},
   "outputs": [],
   "source": [
    "outputs = predictor(img_resized)\n",
    "instances = outputs[\"instances\"].to(\"cpu\")\n"
   ]
  },
  {
   "cell_type": "markdown",
   "id": "f5b21dfb",
   "metadata": {},
   "source": [
    "Mise à l’échelle des prédictions vers l’image d’origine"
   ]
  },
  {
   "cell_type": "code",
   "execution_count": null,
   "metadata": {},
   "outputs": [],
   "source": [
    "def scale_boxes(boxes, scale_x, scale_y):\n",
    "    boxes = boxes.tensor.numpy()\n",
    "    boxes[:, [0, 2]] *= scale_x  # x1, x2\n",
    "    boxes[:, [1, 3]] *= scale_y  # y1, y2\n",
    "    return boxes.astype(int)\n",
    "\n",
    "scaled_boxes = scale_boxes(instances.pred_boxes, scale_x, scale_y)\n",
    "classes = instances.pred_classes.numpy()\n"
   ]
  },
  {
   "cell_type": "markdown",
   "id": "b6d0901a",
   "metadata": {},
   "source": [
    "Annotation de l’image originale avec OpenCV\n",
    "python\n",
    "Copier le code\n"
   ]
  },
  {
   "cell_type": "code",
   "execution_count": null,
   "id": "0930ec6a",
   "metadata": {},
   "outputs": [],
   "source": [
    "annotated_img = img_original.copy()\n",
    "for box, cls in zip(scaled_boxes, classes):\n",
    "    x1, y1, x2, y2 = box\n",
    "    label = metadata.thing_classes[cls]\n",
    "    cv2.rectangle(annotated_img, (x1, y1), (x2, y2), (0, 255, 0), 2)\n",
    "    cv2.putText(annotated_img, label, (x1, y1-5), cv2.FONT_HERSHEY_SIMPLEX, 0.6, (0, 255, 0), 2)\n",
    "\n",
    "cv2.imwrite(\"annotated_output.jpg\", annotated_img)\n",
    "Image.open(\"annotated_output.jpg\")\n"
   ]
  },
  {
   "cell_type": "markdown",
   "id": "af7f5fd2",
   "metadata": {},
   "source": [
    "Export COCO JSON sur image RESIZE\n",
    "python\n",
    "Copier le code\n"
   ]
  },
  {
   "cell_type": "code",
   "execution_count": null,
   "id": "db4991ce",
   "metadata": {},
   "outputs": [],
   "source": [
    "coco_output = {\n",
    "    \"images\": [{\"id\": 1, \"width\": TARGET_WIDTH, \"height\": TARGET_HEIGHT, \"file_name\": \"resized_input.jpg\"}],\n",
    "    \"annotations\": [],\n",
    "    \"categories\": [{\"id\": i, \"name\": name} for i, name in enumerate(metadata.thing_classes)]\n",
    "}\n",
    "\n",
    "for i, box in enumerate(instances.pred_boxes.tensor.numpy()):\n",
    "    x, y, x2, y2 = box\n",
    "    w, h = x2 - x, y2 - y\n",
    "    coco_output[\"annotations\"].append({\n",
    "        \"id\": i,\n",
    "        \"image_id\": 1,\n",
    "        \"category_id\": int(instances.pred_classes[i]),\n",
    "        \"bbox\": [float(x), float(y), float(w), float(h)],\n",
    "        \"area\": float(w * h),\n",
    "        \"iscrowd\": 0\n",
    "    })\n",
    "\n",
    "with open(\"predictions_resize_coco.json\", \"w\") as f:\n",
    "    json.dump(coco_output, f, indent=2)\n",
    "\n",
    "print(\"✅ Sauvegarde COCO : predictions_resize_coco.json\")\n"
   ]
  }
 ],
 "metadata": {
  "language_info": {
   "name": "python"
  }
 },
 "nbformat": 4,
 "nbformat_minor": 5
}

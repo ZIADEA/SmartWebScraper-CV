{
  "cells": [
    {
      "cell_type": "markdown",
      "metadata": {
        "id": "zA_f1BvG9gGN"
      },
      "source": [
        "## EDA"
      ]
    },
    {
      "cell_type": "code",
      "execution_count": 1,
      "metadata": {
        "id": "ck0m8khn-JTI"
      },
      "outputs": [],
      "source": [
        "#primary library\n",
        "import pandas as pd\n",
        "import numpy as np\n",
        "import matplotlib.pyplot as plt\n",
        "import seaborn as sns\n"
      ]
    },
    {
      "cell_type": "code",
      "execution_count": 2,
      "metadata": {
        "colab": {
          "base_uri": "https://localhost:8080/",
          "height": 292
        },
        "id": "BL3o_FL09Zsk",
        "outputId": "01fd83d7-f32b-454c-d8f5-04045faadba0"
      },
      "outputs": [
        {
          "name": "stderr",
          "output_type": "stream",
          "text": [
            "<>:2: SyntaxWarning: invalid escape sequence '\\L'\n",
            "<>:2: SyntaxWarning: invalid escape sequence '\\L'\n",
            "C:\\Users\\DELL\\AppData\\Local\\Temp\\ipykernel_15424\\334565862.py:2: SyntaxWarning: invalid escape sequence '\\L'\n",
            "  data = pd.read_csv(\"LoanExport\\LoanExport.csv\", na_values=[\"\", \" \", \"NA\", \"null\", \"Nan\", \"NaN\"])\n",
            "C:\\Users\\DELL\\AppData\\Local\\Temp\\ipykernel_15424\\334565862.py:2: DtypeWarning: Columns (18) have mixed types. Specify dtype option on import or set low_memory=False.\n",
            "  data = pd.read_csv(\"LoanExport\\LoanExport.csv\", na_values=[\"\", \" \", \"NA\", \"null\", \"Nan\", \"NaN\"])\n"
          ]
        },
        {
          "data": {
            "text/html": [
              "<div>\n",
              "<style scoped>\n",
              "    .dataframe tbody tr th:only-of-type {\n",
              "        vertical-align: middle;\n",
              "    }\n",
              "\n",
              "    .dataframe tbody tr th {\n",
              "        vertical-align: top;\n",
              "    }\n",
              "\n",
              "    .dataframe thead th {\n",
              "        text-align: right;\n",
              "    }\n",
              "</style>\n",
              "<table border=\"1\" class=\"dataframe\">\n",
              "  <thead>\n",
              "    <tr style=\"text-align: right;\">\n",
              "      <th></th>\n",
              "      <th>CreditScore</th>\n",
              "      <th>FirstPaymentDate</th>\n",
              "      <th>FirstTimeHomebuyer</th>\n",
              "      <th>MaturityDate</th>\n",
              "      <th>MSA</th>\n",
              "      <th>MIP</th>\n",
              "      <th>Units</th>\n",
              "      <th>Occupancy</th>\n",
              "      <th>OCLTV</th>\n",
              "      <th>DTI</th>\n",
              "      <th>...</th>\n",
              "      <th>PostalCode</th>\n",
              "      <th>LoanSeqNum</th>\n",
              "      <th>LoanPurpose</th>\n",
              "      <th>OrigLoanTerm</th>\n",
              "      <th>NumBorrowers</th>\n",
              "      <th>SellerName</th>\n",
              "      <th>ServicerName</th>\n",
              "      <th>EverDelinquent</th>\n",
              "      <th>MonthsDelinquent</th>\n",
              "      <th>MonthsInRepayment</th>\n",
              "    </tr>\n",
              "  </thead>\n",
              "  <tbody>\n",
              "    <tr>\n",
              "      <th>0</th>\n",
              "      <td>0</td>\n",
              "      <td>199902</td>\n",
              "      <td>N</td>\n",
              "      <td>202901</td>\n",
              "      <td>16974</td>\n",
              "      <td>25</td>\n",
              "      <td>1</td>\n",
              "      <td>O</td>\n",
              "      <td>89</td>\n",
              "      <td>27</td>\n",
              "      <td>...</td>\n",
              "      <td>60400</td>\n",
              "      <td>F199Q1268030</td>\n",
              "      <td>P</td>\n",
              "      <td>360</td>\n",
              "      <td>2</td>\n",
              "      <td>FL</td>\n",
              "      <td>WASHINGTONMUTUALBANK</td>\n",
              "      <td>0</td>\n",
              "      <td>0</td>\n",
              "      <td>52</td>\n",
              "    </tr>\n",
              "    <tr>\n",
              "      <th>1</th>\n",
              "      <td>0</td>\n",
              "      <td>199902</td>\n",
              "      <td>N</td>\n",
              "      <td>202901</td>\n",
              "      <td>19740</td>\n",
              "      <td>0</td>\n",
              "      <td>1</td>\n",
              "      <td>O</td>\n",
              "      <td>73</td>\n",
              "      <td>17</td>\n",
              "      <td>...</td>\n",
              "      <td>80200</td>\n",
              "      <td>F199Q1015092</td>\n",
              "      <td>N</td>\n",
              "      <td>360</td>\n",
              "      <td>1</td>\n",
              "      <td>FT</td>\n",
              "      <td>CHASEHOMEFINANCELLC</td>\n",
              "      <td>0</td>\n",
              "      <td>0</td>\n",
              "      <td>144</td>\n",
              "    </tr>\n",
              "    <tr>\n",
              "      <th>2</th>\n",
              "      <td>0</td>\n",
              "      <td>199902</td>\n",
              "      <td>N</td>\n",
              "      <td>202901</td>\n",
              "      <td>29940</td>\n",
              "      <td>0</td>\n",
              "      <td>1</td>\n",
              "      <td>O</td>\n",
              "      <td>75</td>\n",
              "      <td>16</td>\n",
              "      <td>...</td>\n",
              "      <td>66000</td>\n",
              "      <td>F199Q1266886</td>\n",
              "      <td>N</td>\n",
              "      <td>360</td>\n",
              "      <td>2</td>\n",
              "      <td>FL</td>\n",
              "      <td>WASHINGTONMUTUALBANK</td>\n",
              "      <td>0</td>\n",
              "      <td>0</td>\n",
              "      <td>67</td>\n",
              "    </tr>\n",
              "    <tr>\n",
              "      <th>3</th>\n",
              "      <td>0</td>\n",
              "      <td>199902</td>\n",
              "      <td>N</td>\n",
              "      <td>202901</td>\n",
              "      <td>31084</td>\n",
              "      <td>0</td>\n",
              "      <td>1</td>\n",
              "      <td>O</td>\n",
              "      <td>76</td>\n",
              "      <td>14</td>\n",
              "      <td>...</td>\n",
              "      <td>90700</td>\n",
              "      <td>F199Q1178167</td>\n",
              "      <td>N</td>\n",
              "      <td>360</td>\n",
              "      <td>2</td>\n",
              "      <td>GM</td>\n",
              "      <td>GMACMTGECORP</td>\n",
              "      <td>0</td>\n",
              "      <td>0</td>\n",
              "      <td>35</td>\n",
              "    </tr>\n",
              "    <tr>\n",
              "      <th>4</th>\n",
              "      <td>0</td>\n",
              "      <td>199902</td>\n",
              "      <td>N</td>\n",
              "      <td>202901</td>\n",
              "      <td>35644</td>\n",
              "      <td>0</td>\n",
              "      <td>1</td>\n",
              "      <td>O</td>\n",
              "      <td>78</td>\n",
              "      <td>18</td>\n",
              "      <td>...</td>\n",
              "      <td>7600</td>\n",
              "      <td>F199Q1178517</td>\n",
              "      <td>N</td>\n",
              "      <td>360</td>\n",
              "      <td>2</td>\n",
              "      <td>GM</td>\n",
              "      <td>GMACMTGECORP</td>\n",
              "      <td>0</td>\n",
              "      <td>0</td>\n",
              "      <td>54</td>\n",
              "    </tr>\n",
              "  </tbody>\n",
              "</table>\n",
              "<p>5 rows × 28 columns</p>\n",
              "</div>"
            ],
            "text/plain": [
              "   CreditScore  FirstPaymentDate FirstTimeHomebuyer  MaturityDate    MSA  MIP  \\\n",
              "0            0            199902                  N        202901  16974   25   \n",
              "1            0            199902                  N        202901  19740    0   \n",
              "2            0            199902                  N        202901  29940    0   \n",
              "3            0            199902                  N        202901  31084    0   \n",
              "4            0            199902                  N        202901  35644    0   \n",
              "\n",
              "   Units Occupancy  OCLTV  DTI  ...  PostalCode    LoanSeqNum  LoanPurpose  \\\n",
              "0      1         O     89   27  ...       60400  F199Q1268030            P   \n",
              "1      1         O     73   17  ...       80200  F199Q1015092            N   \n",
              "2      1         O     75   16  ...       66000  F199Q1266886            N   \n",
              "3      1         O     76   14  ...       90700  F199Q1178167            N   \n",
              "4      1         O     78   18  ...        7600  F199Q1178517            N   \n",
              "\n",
              "  OrigLoanTerm NumBorrowers SellerName          ServicerName EverDelinquent  \\\n",
              "0          360            2         FL  WASHINGTONMUTUALBANK              0   \n",
              "1          360            1         FT  CHASEHOMEFINANCELLC               0   \n",
              "2          360            2         FL  WASHINGTONMUTUALBANK              0   \n",
              "3          360            2         GM  GMACMTGECORP                      0   \n",
              "4          360            2         GM  GMACMTGECORP                      0   \n",
              "\n",
              "  MonthsDelinquent MonthsInRepayment  \n",
              "0                0                52  \n",
              "1                0               144  \n",
              "2                0                67  \n",
              "3                0                35  \n",
              "4                0                54  \n",
              "\n",
              "[5 rows x 28 columns]"
            ]
          },
          "execution_count": 2,
          "metadata": {},
          "output_type": "execute_result"
        }
      ],
      "source": [
        "#loading data\n",
        "data = pd.read_csv(\"LoanExport\\LoanExport.csv\", na_values=[\"\", \" \", \"NA\", \"null\", \"Nan\", \"NaN\"])\n",
        "data.head()\n"
      ]
    },
    {
      "cell_type": "code",
      "execution_count": 3,
      "metadata": {
        "colab": {
          "base_uri": "https://localhost:8080/",
          "height": 320
        },
        "id": "5f4KYyRh-uI6",
        "outputId": "907fa447-682e-4dd0-87c1-e3272cc20099"
      },
      "outputs": [
        {
          "data": {
            "text/html": [
              "<div>\n",
              "<style scoped>\n",
              "    .dataframe tbody tr th:only-of-type {\n",
              "        vertical-align: middle;\n",
              "    }\n",
              "\n",
              "    .dataframe tbody tr th {\n",
              "        vertical-align: top;\n",
              "    }\n",
              "\n",
              "    .dataframe thead th {\n",
              "        text-align: right;\n",
              "    }\n",
              "</style>\n",
              "<table border=\"1\" class=\"dataframe\">\n",
              "  <thead>\n",
              "    <tr style=\"text-align: right;\">\n",
              "      <th></th>\n",
              "      <th>CreditScore</th>\n",
              "      <th>FirstPaymentDate</th>\n",
              "      <th>MaturityDate</th>\n",
              "      <th>MIP</th>\n",
              "      <th>Units</th>\n",
              "      <th>OCLTV</th>\n",
              "      <th>DTI</th>\n",
              "      <th>OrigUPB</th>\n",
              "      <th>LTV</th>\n",
              "      <th>OrigInterestRate</th>\n",
              "      <th>OrigLoanTerm</th>\n",
              "      <th>EverDelinquent</th>\n",
              "      <th>MonthsDelinquent</th>\n",
              "      <th>MonthsInRepayment</th>\n",
              "    </tr>\n",
              "  </thead>\n",
              "  <tbody>\n",
              "    <tr>\n",
              "      <th>count</th>\n",
              "      <td>291451.000000</td>\n",
              "      <td>291451.000000</td>\n",
              "      <td>291451.000000</td>\n",
              "      <td>291451.000000</td>\n",
              "      <td>291451.000000</td>\n",
              "      <td>291451.000000</td>\n",
              "      <td>291451.000000</td>\n",
              "      <td>291451.000000</td>\n",
              "      <td>291451.000000</td>\n",
              "      <td>291451.000000</td>\n",
              "      <td>291451.000000</td>\n",
              "      <td>291451.000000</td>\n",
              "      <td>291451.000000</td>\n",
              "      <td>291451.000000</td>\n",
              "    </tr>\n",
              "    <tr>\n",
              "      <th>mean</th>\n",
              "      <td>708.936991</td>\n",
              "      <td>199904.760553</td>\n",
              "      <td>202902.367043</td>\n",
              "      <td>9.216685</td>\n",
              "      <td>1.026022</td>\n",
              "      <td>76.960529</td>\n",
              "      <td>30.033453</td>\n",
              "      <td>124940.387921</td>\n",
              "      <td>76.937986</td>\n",
              "      <td>6.926547</td>\n",
              "      <td>359.835375</td>\n",
              "      <td>0.197848</td>\n",
              "      <td>1.837729</td>\n",
              "      <td>60.805291</td>\n",
              "    </tr>\n",
              "    <tr>\n",
              "      <th>std</th>\n",
              "      <td>68.408791</td>\n",
              "      <td>13.821228</td>\n",
              "      <td>16.090508</td>\n",
              "      <td>12.648273</td>\n",
              "      <td>0.202986</td>\n",
              "      <td>15.236154</td>\n",
              "      <td>13.203974</td>\n",
              "      <td>53657.440624</td>\n",
              "      <td>15.225298</td>\n",
              "      <td>0.343541</td>\n",
              "      <td>2.286939</td>\n",
              "      <td>0.398378</td>\n",
              "      <td>8.809392</td>\n",
              "      <td>46.142599</td>\n",
              "    </tr>\n",
              "    <tr>\n",
              "      <th>min</th>\n",
              "      <td>0.000000</td>\n",
              "      <td>199901.000000</td>\n",
              "      <td>202402.000000</td>\n",
              "      <td>0.000000</td>\n",
              "      <td>0.000000</td>\n",
              "      <td>0.000000</td>\n",
              "      <td>0.000000</td>\n",
              "      <td>8000.000000</td>\n",
              "      <td>0.000000</td>\n",
              "      <td>4.000000</td>\n",
              "      <td>301.000000</td>\n",
              "      <td>0.000000</td>\n",
              "      <td>0.000000</td>\n",
              "      <td>1.000000</td>\n",
              "    </tr>\n",
              "    <tr>\n",
              "      <th>25%</th>\n",
              "      <td>675.000000</td>\n",
              "      <td>199903.000000</td>\n",
              "      <td>202902.000000</td>\n",
              "      <td>0.000000</td>\n",
              "      <td>1.000000</td>\n",
              "      <td>70.000000</td>\n",
              "      <td>22.000000</td>\n",
              "      <td>83000.000000</td>\n",
              "      <td>70.000000</td>\n",
              "      <td>6.750000</td>\n",
              "      <td>360.000000</td>\n",
              "      <td>0.000000</td>\n",
              "      <td>0.000000</td>\n",
              "      <td>34.000000</td>\n",
              "    </tr>\n",
              "    <tr>\n",
              "      <th>50%</th>\n",
              "      <td>717.000000</td>\n",
              "      <td>199904.000000</td>\n",
              "      <td>202903.000000</td>\n",
              "      <td>0.000000</td>\n",
              "      <td>1.000000</td>\n",
              "      <td>80.000000</td>\n",
              "      <td>31.000000</td>\n",
              "      <td>117000.000000</td>\n",
              "      <td>80.000000</td>\n",
              "      <td>6.875000</td>\n",
              "      <td>360.000000</td>\n",
              "      <td>0.000000</td>\n",
              "      <td>0.000000</td>\n",
              "      <td>48.000000</td>\n",
              "    </tr>\n",
              "    <tr>\n",
              "      <th>75%</th>\n",
              "      <td>753.000000</td>\n",
              "      <td>199905.000000</td>\n",
              "      <td>202904.000000</td>\n",
              "      <td>25.000000</td>\n",
              "      <td>1.000000</td>\n",
              "      <td>90.000000</td>\n",
              "      <td>39.000000</td>\n",
              "      <td>160000.000000</td>\n",
              "      <td>90.000000</td>\n",
              "      <td>7.125000</td>\n",
              "      <td>360.000000</td>\n",
              "      <td>0.000000</td>\n",
              "      <td>0.000000</td>\n",
              "      <td>63.000000</td>\n",
              "    </tr>\n",
              "    <tr>\n",
              "      <th>max</th>\n",
              "      <td>849.000000</td>\n",
              "      <td>201303.000000</td>\n",
              "      <td>204302.000000</td>\n",
              "      <td>55.000000</td>\n",
              "      <td>4.000000</td>\n",
              "      <td>110.000000</td>\n",
              "      <td>65.000000</td>\n",
              "      <td>497000.000000</td>\n",
              "      <td>103.000000</td>\n",
              "      <td>12.350000</td>\n",
              "      <td>361.000000</td>\n",
              "      <td>1.000000</td>\n",
              "      <td>180.000000</td>\n",
              "      <td>212.000000</td>\n",
              "    </tr>\n",
              "  </tbody>\n",
              "</table>\n",
              "</div>"
            ],
            "text/plain": [
              "         CreditScore  FirstPaymentDate   MaturityDate            MIP  \\\n",
              "count  291451.000000     291451.000000  291451.000000  291451.000000   \n",
              "mean      708.936991     199904.760553  202902.367043       9.216685   \n",
              "std        68.408791         13.821228      16.090508      12.648273   \n",
              "min         0.000000     199901.000000  202402.000000       0.000000   \n",
              "25%       675.000000     199903.000000  202902.000000       0.000000   \n",
              "50%       717.000000     199904.000000  202903.000000       0.000000   \n",
              "75%       753.000000     199905.000000  202904.000000      25.000000   \n",
              "max       849.000000     201303.000000  204302.000000      55.000000   \n",
              "\n",
              "               Units          OCLTV            DTI        OrigUPB  \\\n",
              "count  291451.000000  291451.000000  291451.000000  291451.000000   \n",
              "mean        1.026022      76.960529      30.033453  124940.387921   \n",
              "std         0.202986      15.236154      13.203974   53657.440624   \n",
              "min         0.000000       0.000000       0.000000    8000.000000   \n",
              "25%         1.000000      70.000000      22.000000   83000.000000   \n",
              "50%         1.000000      80.000000      31.000000  117000.000000   \n",
              "75%         1.000000      90.000000      39.000000  160000.000000   \n",
              "max         4.000000     110.000000      65.000000  497000.000000   \n",
              "\n",
              "                 LTV  OrigInterestRate   OrigLoanTerm  EverDelinquent  \\\n",
              "count  291451.000000     291451.000000  291451.000000   291451.000000   \n",
              "mean       76.937986          6.926547     359.835375        0.197848   \n",
              "std        15.225298          0.343541       2.286939        0.398378   \n",
              "min         0.000000          4.000000     301.000000        0.000000   \n",
              "25%        70.000000          6.750000     360.000000        0.000000   \n",
              "50%        80.000000          6.875000     360.000000        0.000000   \n",
              "75%        90.000000          7.125000     360.000000        0.000000   \n",
              "max       103.000000         12.350000     361.000000        1.000000   \n",
              "\n",
              "       MonthsDelinquent  MonthsInRepayment  \n",
              "count     291451.000000      291451.000000  \n",
              "mean           1.837729          60.805291  \n",
              "std            8.809392          46.142599  \n",
              "min            0.000000           1.000000  \n",
              "25%            0.000000          34.000000  \n",
              "50%            0.000000          48.000000  \n",
              "75%            0.000000          63.000000  \n",
              "max          180.000000         212.000000  "
            ]
          },
          "execution_count": 3,
          "metadata": {},
          "output_type": "execute_result"
        }
      ],
      "source": [
        "data.describe()"
      ]
    },
    {
      "cell_type": "code",
      "execution_count": 4,
      "metadata": {
        "id": "kN_EoKux9Zpc"
      },
      "outputs": [
        {
          "name": "stdout",
          "output_type": "stream",
          "text": [
            "<class 'pandas.core.frame.DataFrame'>\n",
            "RangeIndex: 291451 entries, 0 to 291450\n",
            "Data columns (total 28 columns):\n",
            " #   Column              Non-Null Count   Dtype  \n",
            "---  ------              --------------   -----  \n",
            " 0   CreditScore         291451 non-null  int64  \n",
            " 1   FirstPaymentDate    291451 non-null  int64  \n",
            " 2   FirstTimeHomebuyer  291451 non-null  object \n",
            " 3   MaturityDate        291451 non-null  int64  \n",
            " 4   MSA                 291451 non-null  object \n",
            " 5   MIP                 291451 non-null  int64  \n",
            " 6   Units               291451 non-null  int64  \n",
            " 7   Occupancy           291451 non-null  object \n",
            " 8   OCLTV               291451 non-null  int64  \n",
            " 9   DTI                 291451 non-null  int64  \n",
            " 10  OrigUPB             291451 non-null  int64  \n",
            " 11  LTV                 291451 non-null  int64  \n",
            " 12  OrigInterestRate    291451 non-null  float64\n",
            " 13  Channel             291451 non-null  object \n",
            " 14  PPM                 291451 non-null  object \n",
            " 15  ProductType         291451 non-null  object \n",
            " 16  PropertyState       291451 non-null  object \n",
            " 17  PropertyType        291451 non-null  object \n",
            " 18  PostalCode          291451 non-null  object \n",
            " 19  LoanSeqNum          291451 non-null  object \n",
            " 20  LoanPurpose         291451 non-null  object \n",
            " 21  OrigLoanTerm        291451 non-null  int64  \n",
            " 22  NumBorrowers        291451 non-null  object \n",
            " 23  SellerName          266457 non-null  object \n",
            " 24  ServicerName        291451 non-null  object \n",
            " 25  EverDelinquent      291451 non-null  int64  \n",
            " 26  MonthsDelinquent    291451 non-null  int64  \n",
            " 27  MonthsInRepayment   291451 non-null  int64  \n",
            "dtypes: float64(1), int64(13), object(14)\n",
            "memory usage: 62.3+ MB\n"
          ]
        }
      ],
      "source": [
        "data.info()"
      ]
    },
    {
      "cell_type": "code",
      "execution_count": 3,
      "metadata": {
        "id": "723QHJIW9Zly"
      },
      "outputs": [],
      "source": [
        "categorical_features=data.select_dtypes(include=['object']).columns\n",
        "numerical_values= data.select_dtypes(include=['int64','float64']).columns\n"
      ]
    },
    {
      "cell_type": "code",
      "execution_count": 4,
      "metadata": {
        "id": "mo5bkZY69ZiI"
      },
      "outputs": [
        {
          "name": "stdout",
          "output_type": "stream",
          "text": [
            "number of lines   : 291451\n",
            "CreditScore               0\n",
            "FirstPaymentDate          0\n",
            "FirstTimeHomebuyer        0\n",
            "MaturityDate              0\n",
            "MSA                       0\n",
            "MIP                       0\n",
            "Units                     0\n",
            "Occupancy                 0\n",
            "OCLTV                     0\n",
            "DTI                       0\n",
            "OrigUPB                   0\n",
            "LTV                       0\n",
            "OrigInterestRate          0\n",
            "Channel                   0\n",
            "PPM                       0\n",
            "ProductType               0\n",
            "PropertyState             0\n",
            "PropertyType              0\n",
            "PostalCode                0\n",
            "LoanSeqNum                0\n",
            "LoanPurpose               0\n",
            "OrigLoanTerm              0\n",
            "NumBorrowers              0\n",
            "SellerName            24994\n",
            "ServicerName              0\n",
            "EverDelinquent            0\n",
            "MonthsDelinquent          0\n",
            "MonthsInRepayment         0\n",
            "dtype: int64\n",
            "number of missing values : 24994\n"
          ]
        }
      ],
      "source": [
        "print('number of lines   :',data.shape[0])\n",
        "missing_values=data.isnull().sum()\n",
        "print(missing_values)\n",
        "print('number of missing values :',missing_values[missing_values > 0].sum())\n"
      ]
    },
    {
      "cell_type": "code",
      "execution_count": 7,
      "metadata": {
        "id": "RO6aoDHX9Zeh"
      },
      "outputs": [
        {
          "name": "stdout",
          "output_type": "stream",
          "text": [
            "column of missing value  :  object\n",
            "unique value :  ['FL' 'FT' 'GM' 'Ot' 'RE' 'NO' 'ST' 'CR' 'CH' 'FI' 'HO' 'PR' nan 'PN' 'WA'\n",
            " 'BA' 'G ' 'OL' 'AC' 'CO' 'BI']\n",
            "number of unique value :  21\n",
            "frequence of missing value :  SellerName\n",
            "Ot    76943\n",
            "CO    34479\n",
            "FL    25573\n",
            "FI    24581\n",
            "ST    22243\n",
            "NO    16184\n",
            "OL     7776\n",
            "PR     7365\n",
            "BA     7093\n",
            "GM     6566\n",
            "BI     6407\n",
            "G      4734\n",
            "CH     4599\n",
            "CR     4459\n",
            "FT     4105\n",
            "WA     3139\n",
            "AC     3076\n",
            "HO     2970\n",
            "PN     2407\n",
            "RE     1758\n",
            "Name: count, dtype: int64\n",
            "number of missing value : 24994 in 291451\n",
            "percentage of missing value : 8.58%\n"
          ]
        }
      ],
      "source": [
        "print('column of missing value  : ',data['SellerName'].dtypes)\n",
        "\n",
        "print('unique value : ',data['SellerName'].unique())\n",
        "print('number of unique value : ',len(data['SellerName'].unique()))\n",
        "\n",
        "print('frequence of missing value : ',data['SellerName'].value_counts() )\n",
        "print(f\"number of missing value : {data['SellerName'].isnull().sum()} in {data.shape[0]}\")\n",
        "print(f\"percentage of missing value : {round(data['SellerName'].isnull().sum()/data.shape[0]*100,2)}%\")\n"
      ]
    },
    {
      "cell_type": "markdown",
      "metadata": {
        "id": "ePFPBlX3NgzB"
      },
      "source": [
        "Our goal :\n",
        "The project aims to predict the risk of prepayment of a mortgage, which directly affects the profitability of MBS.\n",
        "\n",
        "base on our data variables we can suspect that it depend of\n",
        " CreditScore , PostalCode , PropertyState , OrigInterestRate , ProductType , LoanPurpose , PPM , MonthsInRepayment , OrigUPB , OCLTV , LTV\n",
        "\n",
        " source from https://www.wallstreetprep.com/knowledge/prepayment-risk/#:~:text=Prepayment%20risk%20is%20frequently%20considered,of%20debt%20securities%20and%20the"
      ]
    },
    {
      "cell_type": "markdown",
      "metadata": {
        "id": "JAySaqqWWxat"
      },
      "source": [
        "base on https://www.newyorkfed.org/research/data_indicators/mbs_data.html source we can define target as :"
      ]
    },
    {
      "cell_type": "code",
      "execution_count": 5,
      "metadata": {
        "id": "GCuOSu1X9ZYX"
      },
      "outputs": [],
      "source": [
        "data['Prepaid_Proxy'] = ((data['MonthsInRepayment'] < 60) & (data['EverDelinquent'] == 0)).astype(int)\n"
      ]
    },
    {
      "cell_type": "markdown",
      "metadata": {
        "id": "aheaxN-GaIep"
      },
      "source": [
        "handeling missingvalue\n"
      ]
    },
    {
      "cell_type": "code",
      "execution_count": 6,
      "metadata": {
        "colab": {
          "background_save": true
        },
        "id": "wpBT64Uc9ZVo",
        "outputId": "12308149-10a4-45a7-881a-b627f00f27a2"
      },
      "outputs": [
        {
          "name": "stdout",
          "output_type": "stream",
          "text": [
            "Chi² = 2779.39\n",
            "p-value = 0.0000\n",
            "Cramér's V = 0.0977\n"
          ]
        }
      ],
      "source": [
        "from scipy.stats import chi2_contingency\n",
        "import numpy as np\n",
        "import pandas as pd\n",
        "\n",
        "data['SellerName'] = data['SellerName'].fillna('Missing')\n",
        "contingency_table = pd.crosstab(data['SellerName'], data['Prepaid_Proxy'])\n",
        "\n",
        "chi2, p_value, dof, expected = chi2_contingency(contingency_table)\n",
        "print(f\"Chi² = {chi2:.2f}\")\n",
        "print(f\"p-value = {p_value:.4f}\")\n",
        "\n",
        "r, c = contingency_table.shape\n",
        "n = contingency_table.sum().sum()\n",
        "\n",
        "if r > 1 and c > 1:\n",
        "    cramers_v_value = np.sqrt(chi2 / (n * min(r - 1, c - 1)))\n",
        "else:\n",
        "    cramers_v_value = 0\n",
        "\n",
        "print(f\"Cramér's V = {cramers_v_value:.4f}\")\n"
      ]
    },
    {
      "cell_type": "markdown",
      "metadata": {
        "id": "wDlRkMIUbcDz"
      },
      "source": [
        "Chi² test does not reject hypothesis of independence → p-value = 1.0\n",
        "\n",
        "Cramér's V = 0.0 → null strength of association\n",
        "\n",
        "The variable tested provides no useful information for predicting Prepaid_Proxy."
      ]
    },
    {
      "cell_type": "code",
      "execution_count": 7,
      "metadata": {
        "colab": {
          "background_save": true
        },
        "id": "2EmaG9c69ZSs",
        "outputId": "41b3f8f7-caa4-4e50-e3e0-590eb8d11b4c"
      },
      "outputs": [
        {
          "data": {
            "text/html": [
              "<div>\n",
              "<style scoped>\n",
              "    .dataframe tbody tr th:only-of-type {\n",
              "        vertical-align: middle;\n",
              "    }\n",
              "\n",
              "    .dataframe tbody tr th {\n",
              "        vertical-align: top;\n",
              "    }\n",
              "\n",
              "    .dataframe thead th {\n",
              "        text-align: right;\n",
              "    }\n",
              "</style>\n",
              "<table border=\"1\" class=\"dataframe\">\n",
              "  <thead>\n",
              "    <tr style=\"text-align: right;\">\n",
              "      <th></th>\n",
              "      <th>CreditScore</th>\n",
              "      <th>FirstPaymentDate</th>\n",
              "      <th>FirstTimeHomebuyer</th>\n",
              "      <th>MaturityDate</th>\n",
              "      <th>MSA</th>\n",
              "      <th>MIP</th>\n",
              "      <th>Units</th>\n",
              "      <th>Occupancy</th>\n",
              "      <th>OCLTV</th>\n",
              "      <th>DTI</th>\n",
              "      <th>...</th>\n",
              "      <th>PostalCode</th>\n",
              "      <th>LoanSeqNum</th>\n",
              "      <th>LoanPurpose</th>\n",
              "      <th>OrigLoanTerm</th>\n",
              "      <th>NumBorrowers</th>\n",
              "      <th>ServicerName</th>\n",
              "      <th>EverDelinquent</th>\n",
              "      <th>MonthsDelinquent</th>\n",
              "      <th>MonthsInRepayment</th>\n",
              "      <th>Prepaid_Proxy</th>\n",
              "    </tr>\n",
              "  </thead>\n",
              "  <tbody>\n",
              "    <tr>\n",
              "      <th>0</th>\n",
              "      <td>0</td>\n",
              "      <td>199902</td>\n",
              "      <td>N</td>\n",
              "      <td>202901</td>\n",
              "      <td>16974</td>\n",
              "      <td>25</td>\n",
              "      <td>1</td>\n",
              "      <td>O</td>\n",
              "      <td>89</td>\n",
              "      <td>27</td>\n",
              "      <td>...</td>\n",
              "      <td>60400</td>\n",
              "      <td>F199Q1268030</td>\n",
              "      <td>P</td>\n",
              "      <td>360</td>\n",
              "      <td>2</td>\n",
              "      <td>WASHINGTONMUTUALBANK</td>\n",
              "      <td>0</td>\n",
              "      <td>0</td>\n",
              "      <td>52</td>\n",
              "      <td>1</td>\n",
              "    </tr>\n",
              "    <tr>\n",
              "      <th>1</th>\n",
              "      <td>0</td>\n",
              "      <td>199902</td>\n",
              "      <td>N</td>\n",
              "      <td>202901</td>\n",
              "      <td>19740</td>\n",
              "      <td>0</td>\n",
              "      <td>1</td>\n",
              "      <td>O</td>\n",
              "      <td>73</td>\n",
              "      <td>17</td>\n",
              "      <td>...</td>\n",
              "      <td>80200</td>\n",
              "      <td>F199Q1015092</td>\n",
              "      <td>N</td>\n",
              "      <td>360</td>\n",
              "      <td>1</td>\n",
              "      <td>CHASEHOMEFINANCELLC</td>\n",
              "      <td>0</td>\n",
              "      <td>0</td>\n",
              "      <td>144</td>\n",
              "      <td>0</td>\n",
              "    </tr>\n",
              "    <tr>\n",
              "      <th>2</th>\n",
              "      <td>0</td>\n",
              "      <td>199902</td>\n",
              "      <td>N</td>\n",
              "      <td>202901</td>\n",
              "      <td>29940</td>\n",
              "      <td>0</td>\n",
              "      <td>1</td>\n",
              "      <td>O</td>\n",
              "      <td>75</td>\n",
              "      <td>16</td>\n",
              "      <td>...</td>\n",
              "      <td>66000</td>\n",
              "      <td>F199Q1266886</td>\n",
              "      <td>N</td>\n",
              "      <td>360</td>\n",
              "      <td>2</td>\n",
              "      <td>WASHINGTONMUTUALBANK</td>\n",
              "      <td>0</td>\n",
              "      <td>0</td>\n",
              "      <td>67</td>\n",
              "      <td>0</td>\n",
              "    </tr>\n",
              "    <tr>\n",
              "      <th>3</th>\n",
              "      <td>0</td>\n",
              "      <td>199902</td>\n",
              "      <td>N</td>\n",
              "      <td>202901</td>\n",
              "      <td>31084</td>\n",
              "      <td>0</td>\n",
              "      <td>1</td>\n",
              "      <td>O</td>\n",
              "      <td>76</td>\n",
              "      <td>14</td>\n",
              "      <td>...</td>\n",
              "      <td>90700</td>\n",
              "      <td>F199Q1178167</td>\n",
              "      <td>N</td>\n",
              "      <td>360</td>\n",
              "      <td>2</td>\n",
              "      <td>GMACMTGECORP</td>\n",
              "      <td>0</td>\n",
              "      <td>0</td>\n",
              "      <td>35</td>\n",
              "      <td>1</td>\n",
              "    </tr>\n",
              "    <tr>\n",
              "      <th>4</th>\n",
              "      <td>0</td>\n",
              "      <td>199902</td>\n",
              "      <td>N</td>\n",
              "      <td>202901</td>\n",
              "      <td>35644</td>\n",
              "      <td>0</td>\n",
              "      <td>1</td>\n",
              "      <td>O</td>\n",
              "      <td>78</td>\n",
              "      <td>18</td>\n",
              "      <td>...</td>\n",
              "      <td>7600</td>\n",
              "      <td>F199Q1178517</td>\n",
              "      <td>N</td>\n",
              "      <td>360</td>\n",
              "      <td>2</td>\n",
              "      <td>GMACMTGECORP</td>\n",
              "      <td>0</td>\n",
              "      <td>0</td>\n",
              "      <td>54</td>\n",
              "      <td>1</td>\n",
              "    </tr>\n",
              "    <tr>\n",
              "      <th>...</th>\n",
              "      <td>...</td>\n",
              "      <td>...</td>\n",
              "      <td>...</td>\n",
              "      <td>...</td>\n",
              "      <td>...</td>\n",
              "      <td>...</td>\n",
              "      <td>...</td>\n",
              "      <td>...</td>\n",
              "      <td>...</td>\n",
              "      <td>...</td>\n",
              "      <td>...</td>\n",
              "      <td>...</td>\n",
              "      <td>...</td>\n",
              "      <td>...</td>\n",
              "      <td>...</td>\n",
              "      <td>...</td>\n",
              "      <td>...</td>\n",
              "      <td>...</td>\n",
              "      <td>...</td>\n",
              "      <td>...</td>\n",
              "      <td>...</td>\n",
              "    </tr>\n",
              "    <tr>\n",
              "      <th>291446</th>\n",
              "      <td>839</td>\n",
              "      <td>199903</td>\n",
              "      <td>N</td>\n",
              "      <td>202902</td>\n",
              "      <td>37964</td>\n",
              "      <td>0</td>\n",
              "      <td>1</td>\n",
              "      <td>O</td>\n",
              "      <td>60</td>\n",
              "      <td>32</td>\n",
              "      <td>...</td>\n",
              "      <td>19400</td>\n",
              "      <td>F199Q1220925</td>\n",
              "      <td>N</td>\n",
              "      <td>360</td>\n",
              "      <td>2</td>\n",
              "      <td>Other servicers</td>\n",
              "      <td>0</td>\n",
              "      <td>0</td>\n",
              "      <td>12</td>\n",
              "      <td>1</td>\n",
              "    </tr>\n",
              "    <tr>\n",
              "      <th>291447</th>\n",
              "      <td>840</td>\n",
              "      <td>200210</td>\n",
              "      <td>N</td>\n",
              "      <td>202904</td>\n",
              "      <td>35644</td>\n",
              "      <td>0</td>\n",
              "      <td>1</td>\n",
              "      <td>O</td>\n",
              "      <td>73</td>\n",
              "      <td>0</td>\n",
              "      <td>...</td>\n",
              "      <td>11600</td>\n",
              "      <td>F199Q1401332</td>\n",
              "      <td>P</td>\n",
              "      <td>319</td>\n",
              "      <td>2</td>\n",
              "      <td>Other servicers</td>\n",
              "      <td>0</td>\n",
              "      <td>0</td>\n",
              "      <td>53</td>\n",
              "      <td>1</td>\n",
              "    </tr>\n",
              "    <tr>\n",
              "      <th>291448</th>\n",
              "      <td>840</td>\n",
              "      <td>200304</td>\n",
              "      <td>N</td>\n",
              "      <td>202904</td>\n",
              "      <td>42044</td>\n",
              "      <td>0</td>\n",
              "      <td>1</td>\n",
              "      <td>O</td>\n",
              "      <td>73</td>\n",
              "      <td>31</td>\n",
              "      <td>...</td>\n",
              "      <td>92800</td>\n",
              "      <td>F199Q1401282</td>\n",
              "      <td>N</td>\n",
              "      <td>313</td>\n",
              "      <td>1</td>\n",
              "      <td>Other servicers</td>\n",
              "      <td>0</td>\n",
              "      <td>0</td>\n",
              "      <td>38</td>\n",
              "      <td>1</td>\n",
              "    </tr>\n",
              "    <tr>\n",
              "      <th>291449</th>\n",
              "      <td>845</td>\n",
              "      <td>199904</td>\n",
              "      <td>N</td>\n",
              "      <td>202903</td>\n",
              "      <td>37964</td>\n",
              "      <td>0</td>\n",
              "      <td>1</td>\n",
              "      <td>I</td>\n",
              "      <td>80</td>\n",
              "      <td>54</td>\n",
              "      <td>...</td>\n",
              "      <td>19300</td>\n",
              "      <td>F199Q1220924</td>\n",
              "      <td>P</td>\n",
              "      <td>360</td>\n",
              "      <td>2</td>\n",
              "      <td>Other servicers</td>\n",
              "      <td>0</td>\n",
              "      <td>0</td>\n",
              "      <td>32</td>\n",
              "      <td>1</td>\n",
              "    </tr>\n",
              "    <tr>\n",
              "      <th>291450</th>\n",
              "      <td>849</td>\n",
              "      <td>199903</td>\n",
              "      <td>N</td>\n",
              "      <td>202902</td>\n",
              "      <td>37964</td>\n",
              "      <td>0</td>\n",
              "      <td>1</td>\n",
              "      <td>O</td>\n",
              "      <td>47</td>\n",
              "      <td>29</td>\n",
              "      <td>...</td>\n",
              "      <td>18900</td>\n",
              "      <td>F199Q1220923</td>\n",
              "      <td>P</td>\n",
              "      <td>360</td>\n",
              "      <td>2</td>\n",
              "      <td>Other servicers</td>\n",
              "      <td>0</td>\n",
              "      <td>0</td>\n",
              "      <td>29</td>\n",
              "      <td>1</td>\n",
              "    </tr>\n",
              "  </tbody>\n",
              "</table>\n",
              "<p>291451 rows × 28 columns</p>\n",
              "</div>"
            ],
            "text/plain": [
              "        CreditScore  FirstPaymentDate FirstTimeHomebuyer  MaturityDate    MSA  \\\n",
              "0                 0            199902                  N        202901  16974   \n",
              "1                 0            199902                  N        202901  19740   \n",
              "2                 0            199902                  N        202901  29940   \n",
              "3                 0            199902                  N        202901  31084   \n",
              "4                 0            199902                  N        202901  35644   \n",
              "...             ...               ...                ...           ...    ...   \n",
              "291446          839            199903                  N        202902  37964   \n",
              "291447          840            200210                  N        202904  35644   \n",
              "291448          840            200304                  N        202904  42044   \n",
              "291449          845            199904                  N        202903  37964   \n",
              "291450          849            199903                  N        202902  37964   \n",
              "\n",
              "        MIP  Units Occupancy  OCLTV  DTI  ...  PostalCode    LoanSeqNum  \\\n",
              "0        25      1         O     89   27  ...       60400  F199Q1268030   \n",
              "1         0      1         O     73   17  ...       80200  F199Q1015092   \n",
              "2         0      1         O     75   16  ...       66000  F199Q1266886   \n",
              "3         0      1         O     76   14  ...       90700  F199Q1178167   \n",
              "4         0      1         O     78   18  ...        7600  F199Q1178517   \n",
              "...     ...    ...       ...    ...  ...  ...         ...           ...   \n",
              "291446    0      1         O     60   32  ...       19400  F199Q1220925   \n",
              "291447    0      1         O     73    0  ...       11600  F199Q1401332   \n",
              "291448    0      1         O     73   31  ...       92800  F199Q1401282   \n",
              "291449    0      1         I     80   54  ...       19300  F199Q1220924   \n",
              "291450    0      1         O     47   29  ...       18900  F199Q1220923   \n",
              "\n",
              "        LoanPurpose OrigLoanTerm NumBorrowers          ServicerName  \\\n",
              "0                 P          360            2  WASHINGTONMUTUALBANK   \n",
              "1                 N          360            1  CHASEHOMEFINANCELLC    \n",
              "2                 N          360            2  WASHINGTONMUTUALBANK   \n",
              "3                 N          360            2  GMACMTGECORP           \n",
              "4                 N          360            2  GMACMTGECORP           \n",
              "...             ...          ...          ...                   ...   \n",
              "291446            N          360            2  Other servicers        \n",
              "291447            P          319            2  Other servicers        \n",
              "291448            N          313            1  Other servicers        \n",
              "291449            P          360            2  Other servicers        \n",
              "291450            P          360            2  Other servicers        \n",
              "\n",
              "       EverDelinquent MonthsDelinquent MonthsInRepayment Prepaid_Proxy  \n",
              "0                   0                0                52             1  \n",
              "1                   0                0               144             0  \n",
              "2                   0                0                67             0  \n",
              "3                   0                0                35             1  \n",
              "4                   0                0                54             1  \n",
              "...               ...              ...               ...           ...  \n",
              "291446              0                0                12             1  \n",
              "291447              0                0                53             1  \n",
              "291448              0                0                38             1  \n",
              "291449              0                0                32             1  \n",
              "291450              0                0                29             1  \n",
              "\n",
              "[291451 rows x 28 columns]"
            ]
          },
          "execution_count": 7,
          "metadata": {},
          "output_type": "execute_result"
        }
      ],
      "source": [
        "data = data.drop(columns=['SellerName'])\n",
        "data"
      ]
    },
    {
      "cell_type": "code",
      "execution_count": 18,
      "metadata": {},
      "outputs": [],
      "source": [
        "categorical_features = categorical_features.drop('SellerName', errors='ignore')"
      ]
    },
    {
      "cell_type": "markdown",
      "metadata": {
        "id": "AOy8ZtWqeVCJ"
      },
      "source": [
        "Histogrammes des variables numériques\n"
      ]
    },
    {
      "cell_type": "code",
      "execution_count": 11,
      "metadata": {
        "colab": {
          "background_save": true
        },
        "id": "N3EeP4iweheb",
        "outputId": "97d40564-f7d4-46e2-bd22-05a6d1fa1a00"
      },
      "outputs": [
        {
          "data": {
            "image/png": "[encoded data removed]",
            "text/plain": [
              "<Figure size 1200x1500 with 14 Axes>"
            ]
          },
          "metadata": {},
          "output_type": "display_data"
        }
      ],
      "source": [
        "num_cols = len(numerical_values)\n",
        "n_cols = 3\n",
        "n_rows = (num_cols + n_cols - 1) // n_cols\n",
        "\n",
        "plt.figure(figsize=(n_cols * 4, n_rows * 3))\n",
        "\n",
        "for i, col in enumerate(numerical_values):\n",
        "  plt.subplot(n_rows, n_cols, i + 1)\n",
        "  sns.histplot(data[col].dropna(), kde=True, bins=20)\n",
        "  plt.title(col)\n",
        "  plt.tight_layout()\n",
        "\n",
        "plt.show()"
      ]
    },
    {
      "cell_type": "markdown",
      "metadata": {
        "id": "AOjXt3yehEGj"
      },
      "source": [
        " Observations:\n",
        "\n",
        "CreditScore: distribution concentrated around 600-800, which is typical for qualified loans. No major outliers.\n",
        "\n",
        "OrigUPB (amount borrowed): straight asymmetrical shape, majority around 50,000-200,000.\n",
        "\n",
        "DTI (Debt-to-Income ratio): centered around 25, normal, with few extremes >50.\n",
        "\n",
        "LTV and OCLTV: peaks close to 80-100, which is expected (LTV ≤ 80% is an industry standard).\n",
        "\n",
        "OrigInterestRate: concentration around 6.5-7.5%, narrow distribution.\n",
        "\n",
        "MonthsInRepayment: left asymmetrical, with a strong peak between 40 and 80 → lots of Prepaid_Proxy loans in the early years.\n",
        "\n",
        " Please note:\n",
        "\n",
        "MIP, Units and EverDelinquent seem to be unbalanced"
      ]
    },
    {
      "cell_type": "markdown",
      "metadata": {
        "id": "mYwdDB98iOlr"
      },
      "source": [
        "Analyse des variables catégorielles"
      ]
    },
    {
      "cell_type": "code",
      "execution_count": 12,
      "metadata": {
        "id": "_jV8fplJii8U"
      },
      "outputs": [
        {
          "ename": "KeyboardInterrupt",
          "evalue": "",
          "output_type": "error",
          "traceback": [
            "\u001b[1;31m---------------------------------------------------------------------------\u001b[0m",
            "\u001b[1;31mKeyboardInterrupt\u001b[0m                         Traceback (most recent call last)",
            "Cell \u001b[1;32mIn[12], line 15\u001b[0m\n\u001b[0;32m     11\u001b[0m     plt\u001b[38;5;241m.\u001b[39mxticks(rotation\u001b[38;5;241m=\u001b[39m\u001b[38;5;241m45\u001b[39m, ha\u001b[38;5;241m=\u001b[39m\u001b[38;5;124m'\u001b[39m\u001b[38;5;124mright\u001b[39m\u001b[38;5;124m'\u001b[39m)\n\u001b[0;32m     13\u001b[0m plt\u001b[38;5;241m.\u001b[39mtight_layout()\n\u001b[1;32m---> 15\u001b[0m plt\u001b[38;5;241m.\u001b[39mshow()\n",
            "File \u001b[1;32mc:\\Users\\DELL\\anaconda3\\Lib\\site-packages\\matplotlib\\pyplot.py:612\u001b[0m, in \u001b[0;36mshow\u001b[1;34m(*args, **kwargs)\u001b[0m\n\u001b[0;32m    568\u001b[0m \u001b[38;5;250m\u001b[39m\u001b[38;5;124;03m\"\"\"\u001b[39;00m\n\u001b[0;32m    569\u001b[0m \u001b[38;5;124;03mDisplay all open figures.\u001b[39;00m\n\u001b[0;32m    570\u001b[0m \n\u001b[1;32m   (...)\u001b[0m\n\u001b[0;32m    609\u001b[0m \u001b[38;5;124;03mexplicitly there.\u001b[39;00m\n\u001b[0;32m    610\u001b[0m \u001b[38;5;124;03m\"\"\"\u001b[39;00m\n\u001b[0;32m    611\u001b[0m _warn_if_gui_out_of_main_thread()\n\u001b[1;32m--> 612\u001b[0m \u001b[38;5;28;01mreturn\u001b[39;00m _get_backend_mod()\u001b[38;5;241m.\u001b[39mshow(\u001b[38;5;241m*\u001b[39margs, \u001b[38;5;241m*\u001b[39m\u001b[38;5;241m*\u001b[39mkwargs)\n",
            "File \u001b[1;32mc:\\Users\\DELL\\anaconda3\\Lib\\site-packages\\matplotlib_inline\\backend_inline.py:90\u001b[0m, in \u001b[0;36mshow\u001b[1;34m(close, block)\u001b[0m\n\u001b[0;32m     88\u001b[0m \u001b[38;5;28;01mtry\u001b[39;00m:\n\u001b[0;32m     89\u001b[0m     \u001b[38;5;28;01mfor\u001b[39;00m figure_manager \u001b[38;5;129;01min\u001b[39;00m Gcf\u001b[38;5;241m.\u001b[39mget_all_fig_managers():\n\u001b[1;32m---> 90\u001b[0m         display(\n\u001b[0;32m     91\u001b[0m             figure_manager\u001b[38;5;241m.\u001b[39mcanvas\u001b[38;5;241m.\u001b[39mfigure,\n\u001b[0;32m     92\u001b[0m             metadata\u001b[38;5;241m=\u001b[39m_fetch_figure_metadata(figure_manager\u001b[38;5;241m.\u001b[39mcanvas\u001b[38;5;241m.\u001b[39mfigure)\n\u001b[0;32m     93\u001b[0m         )\n\u001b[0;32m     94\u001b[0m \u001b[38;5;28;01mfinally\u001b[39;00m:\n\u001b[0;32m     95\u001b[0m     show\u001b[38;5;241m.\u001b[39m_to_draw \u001b[38;5;241m=\u001b[39m []\n",
            "File \u001b[1;32mc:\\Users\\DELL\\anaconda3\\Lib\\site-packages\\IPython\\core\\display_functions.py:298\u001b[0m, in \u001b[0;36mdisplay\u001b[1;34m(include, exclude, metadata, transient, display_id, raw, clear, *objs, **kwargs)\u001b[0m\n\u001b[0;32m    296\u001b[0m     publish_display_data(data\u001b[38;5;241m=\u001b[39mobj, metadata\u001b[38;5;241m=\u001b[39mmetadata, \u001b[38;5;241m*\u001b[39m\u001b[38;5;241m*\u001b[39mkwargs)\n\u001b[0;32m    297\u001b[0m \u001b[38;5;28;01melse\u001b[39;00m:\n\u001b[1;32m--> 298\u001b[0m     format_dict, md_dict \u001b[38;5;241m=\u001b[39m \u001b[38;5;28mformat\u001b[39m(obj, include\u001b[38;5;241m=\u001b[39minclude, exclude\u001b[38;5;241m=\u001b[39mexclude)\n\u001b[0;32m    299\u001b[0m     \u001b[38;5;28;01mif\u001b[39;00m \u001b[38;5;129;01mnot\u001b[39;00m format_dict:\n\u001b[0;32m    300\u001b[0m         \u001b[38;5;66;03m# nothing to display (e.g. _ipython_display_ took over)\u001b[39;00m\n\u001b[0;32m    301\u001b[0m         \u001b[38;5;28;01mcontinue\u001b[39;00m\n",
            "File \u001b[1;32mc:\\Users\\DELL\\anaconda3\\Lib\\site-packages\\IPython\\core\\formatters.py:182\u001b[0m, in \u001b[0;36mDisplayFormatter.format\u001b[1;34m(self, obj, include, exclude)\u001b[0m\n\u001b[0;32m    180\u001b[0m md \u001b[38;5;241m=\u001b[39m \u001b[38;5;28;01mNone\u001b[39;00m\n\u001b[0;32m    181\u001b[0m \u001b[38;5;28;01mtry\u001b[39;00m:\n\u001b[1;32m--> 182\u001b[0m     data \u001b[38;5;241m=\u001b[39m formatter(obj)\n\u001b[0;32m    183\u001b[0m \u001b[38;5;28;01mexcept\u001b[39;00m:\n\u001b[0;32m    184\u001b[0m     \u001b[38;5;66;03m# FIXME: log the exception\u001b[39;00m\n\u001b[0;32m    185\u001b[0m     \u001b[38;5;28;01mraise\u001b[39;00m\n",
            "File \u001b[1;32mc:\\Users\\DELL\\anaconda3\\Lib\\site-packages\\decorator.py:232\u001b[0m, in \u001b[0;36mdecorate.<locals>.fun\u001b[1;34m(*args, **kw)\u001b[0m\n\u001b[0;32m    230\u001b[0m \u001b[38;5;28;01mif\u001b[39;00m \u001b[38;5;129;01mnot\u001b[39;00m kwsyntax:\n\u001b[0;32m    231\u001b[0m     args, kw \u001b[38;5;241m=\u001b[39m fix(args, kw, sig)\n\u001b[1;32m--> 232\u001b[0m \u001b[38;5;28;01mreturn\u001b[39;00m caller(func, \u001b[38;5;241m*\u001b[39m(extras \u001b[38;5;241m+\u001b[39m args), \u001b[38;5;241m*\u001b[39m\u001b[38;5;241m*\u001b[39mkw)\n",
            "File \u001b[1;32mc:\\Users\\DELL\\anaconda3\\Lib\\site-packages\\IPython\\core\\formatters.py:226\u001b[0m, in \u001b[0;36mcatch_format_error\u001b[1;34m(method, self, *args, **kwargs)\u001b[0m\n\u001b[0;32m    224\u001b[0m \u001b[38;5;250m\u001b[39m\u001b[38;5;124;03m\"\"\"show traceback on failed format call\"\"\"\u001b[39;00m\n\u001b[0;32m    225\u001b[0m \u001b[38;5;28;01mtry\u001b[39;00m:\n\u001b[1;32m--> 226\u001b[0m     r \u001b[38;5;241m=\u001b[39m method(\u001b[38;5;28mself\u001b[39m, \u001b[38;5;241m*\u001b[39margs, \u001b[38;5;241m*\u001b[39m\u001b[38;5;241m*\u001b[39mkwargs)\n\u001b[0;32m    227\u001b[0m \u001b[38;5;28;01mexcept\u001b[39;00m \u001b[38;5;167;01mNotImplementedError\u001b[39;00m:\n\u001b[0;32m    228\u001b[0m     \u001b[38;5;66;03m# don't warn on NotImplementedErrors\u001b[39;00m\n\u001b[0;32m    229\u001b[0m     \u001b[38;5;28;01mreturn\u001b[39;00m \u001b[38;5;28mself\u001b[39m\u001b[38;5;241m.\u001b[39m_check_return(\u001b[38;5;28;01mNone\u001b[39;00m, args[\u001b[38;5;241m0\u001b[39m])\n",
            "File \u001b[1;32mc:\\Users\\DELL\\anaconda3\\Lib\\site-packages\\IPython\\core\\formatters.py:343\u001b[0m, in \u001b[0;36mBaseFormatter.__call__\u001b[1;34m(self, obj)\u001b[0m\n\u001b[0;32m    341\u001b[0m     \u001b[38;5;28;01mpass\u001b[39;00m\n\u001b[0;32m    342\u001b[0m \u001b[38;5;28;01melse\u001b[39;00m:\n\u001b[1;32m--> 343\u001b[0m     \u001b[38;5;28;01mreturn\u001b[39;00m printer(obj)\n\u001b[0;32m    344\u001b[0m \u001b[38;5;66;03m# Finally look for special method names\u001b[39;00m\n\u001b[0;32m    345\u001b[0m method \u001b[38;5;241m=\u001b[39m get_real_method(obj, \u001b[38;5;28mself\u001b[39m\u001b[38;5;241m.\u001b[39mprint_method)\n",
            "File \u001b[1;32mc:\\Users\\DELL\\anaconda3\\Lib\\site-packages\\IPython\\core\\pylabtools.py:170\u001b[0m, in \u001b[0;36mprint_figure\u001b[1;34m(fig, fmt, bbox_inches, base64, **kwargs)\u001b[0m\n\u001b[0;32m    167\u001b[0m     \u001b[38;5;28;01mfrom\u001b[39;00m \u001b[38;5;21;01mmatplotlib\u001b[39;00m\u001b[38;5;21;01m.\u001b[39;00m\u001b[38;5;21;01mbackend_bases\u001b[39;00m \u001b[38;5;28;01mimport\u001b[39;00m FigureCanvasBase\n\u001b[0;32m    168\u001b[0m     FigureCanvasBase(fig)\n\u001b[1;32m--> 170\u001b[0m fig\u001b[38;5;241m.\u001b[39mcanvas\u001b[38;5;241m.\u001b[39mprint_figure(bytes_io, \u001b[38;5;241m*\u001b[39m\u001b[38;5;241m*\u001b[39mkw)\n\u001b[0;32m    171\u001b[0m data \u001b[38;5;241m=\u001b[39m bytes_io\u001b[38;5;241m.\u001b[39mgetvalue()\n\u001b[0;32m    172\u001b[0m \u001b[38;5;28;01mif\u001b[39;00m fmt \u001b[38;5;241m==\u001b[39m \u001b[38;5;124m'\u001b[39m\u001b[38;5;124msvg\u001b[39m\u001b[38;5;124m'\u001b[39m:\n",
            "File \u001b[1;32mc:\\Users\\DELL\\anaconda3\\Lib\\site-packages\\matplotlib\\backend_bases.py:2175\u001b[0m, in \u001b[0;36mFigureCanvasBase.print_figure\u001b[1;34m(self, filename, dpi, facecolor, edgecolor, orientation, format, bbox_inches, pad_inches, bbox_extra_artists, backend, **kwargs)\u001b[0m\n\u001b[0;32m   2172\u001b[0m     \u001b[38;5;66;03m# we do this instead of `self.figure.draw_without_rendering`\u001b[39;00m\n\u001b[0;32m   2173\u001b[0m     \u001b[38;5;66;03m# so that we can inject the orientation\u001b[39;00m\n\u001b[0;32m   2174\u001b[0m     \u001b[38;5;28;01mwith\u001b[39;00m \u001b[38;5;28mgetattr\u001b[39m(renderer, \u001b[38;5;124m\"\u001b[39m\u001b[38;5;124m_draw_disabled\u001b[39m\u001b[38;5;124m\"\u001b[39m, nullcontext)():\n\u001b[1;32m-> 2175\u001b[0m         \u001b[38;5;28mself\u001b[39m\u001b[38;5;241m.\u001b[39mfigure\u001b[38;5;241m.\u001b[39mdraw(renderer)\n\u001b[0;32m   2176\u001b[0m \u001b[38;5;28;01mif\u001b[39;00m bbox_inches:\n\u001b[0;32m   2177\u001b[0m     \u001b[38;5;28;01mif\u001b[39;00m bbox_inches \u001b[38;5;241m==\u001b[39m \u001b[38;5;124m\"\u001b[39m\u001b[38;5;124mtight\u001b[39m\u001b[38;5;124m\"\u001b[39m:\n",
            "File \u001b[1;32mc:\\Users\\DELL\\anaconda3\\Lib\\site-packages\\matplotlib\\artist.py:95\u001b[0m, in \u001b[0;36m_finalize_rasterization.<locals>.draw_wrapper\u001b[1;34m(artist, renderer, *args, **kwargs)\u001b[0m\n\u001b[0;32m     93\u001b[0m \u001b[38;5;129m@wraps\u001b[39m(draw)\n\u001b[0;32m     94\u001b[0m \u001b[38;5;28;01mdef\u001b[39;00m \u001b[38;5;21mdraw_wrapper\u001b[39m(artist, renderer, \u001b[38;5;241m*\u001b[39margs, \u001b[38;5;241m*\u001b[39m\u001b[38;5;241m*\u001b[39mkwargs):\n\u001b[1;32m---> 95\u001b[0m     result \u001b[38;5;241m=\u001b[39m draw(artist, renderer, \u001b[38;5;241m*\u001b[39margs, \u001b[38;5;241m*\u001b[39m\u001b[38;5;241m*\u001b[39mkwargs)\n\u001b[0;32m     96\u001b[0m     \u001b[38;5;28;01mif\u001b[39;00m renderer\u001b[38;5;241m.\u001b[39m_rasterizing:\n\u001b[0;32m     97\u001b[0m         renderer\u001b[38;5;241m.\u001b[39mstop_rasterizing()\n",
            "File \u001b[1;32mc:\\Users\\DELL\\anaconda3\\Lib\\site-packages\\matplotlib\\artist.py:72\u001b[0m, in \u001b[0;36mallow_rasterization.<locals>.draw_wrapper\u001b[1;34m(artist, renderer)\u001b[0m\n\u001b[0;32m     69\u001b[0m     \u001b[38;5;28;01mif\u001b[39;00m artist\u001b[38;5;241m.\u001b[39mget_agg_filter() \u001b[38;5;129;01mis\u001b[39;00m \u001b[38;5;129;01mnot\u001b[39;00m \u001b[38;5;28;01mNone\u001b[39;00m:\n\u001b[0;32m     70\u001b[0m         renderer\u001b[38;5;241m.\u001b[39mstart_filter()\n\u001b[1;32m---> 72\u001b[0m     \u001b[38;5;28;01mreturn\u001b[39;00m draw(artist, renderer)\n\u001b[0;32m     73\u001b[0m \u001b[38;5;28;01mfinally\u001b[39;00m:\n\u001b[0;32m     74\u001b[0m     \u001b[38;5;28;01mif\u001b[39;00m artist\u001b[38;5;241m.\u001b[39mget_agg_filter() \u001b[38;5;129;01mis\u001b[39;00m \u001b[38;5;129;01mnot\u001b[39;00m \u001b[38;5;28;01mNone\u001b[39;00m:\n",
            "File \u001b[1;32mc:\\Users\\DELL\\anaconda3\\Lib\\site-packages\\matplotlib\\figure.py:3162\u001b[0m, in \u001b[0;36mFigure.draw\u001b[1;34m(self, renderer)\u001b[0m\n\u001b[0;32m   3159\u001b[0m             \u001b[38;5;66;03m# ValueError can occur when resizing a window.\u001b[39;00m\n\u001b[0;32m   3161\u001b[0m     \u001b[38;5;28mself\u001b[39m\u001b[38;5;241m.\u001b[39mpatch\u001b[38;5;241m.\u001b[39mdraw(renderer)\n\u001b[1;32m-> 3162\u001b[0m     mimage\u001b[38;5;241m.\u001b[39m_draw_list_compositing_images(\n\u001b[0;32m   3163\u001b[0m         renderer, \u001b[38;5;28mself\u001b[39m, artists, \u001b[38;5;28mself\u001b[39m\u001b[38;5;241m.\u001b[39msuppressComposite)\n\u001b[0;32m   3165\u001b[0m     renderer\u001b[38;5;241m.\u001b[39mclose_group(\u001b[38;5;124m'\u001b[39m\u001b[38;5;124mfigure\u001b[39m\u001b[38;5;124m'\u001b[39m)\n\u001b[0;32m   3166\u001b[0m \u001b[38;5;28;01mfinally\u001b[39;00m:\n",
            "File \u001b[1;32mc:\\Users\\DELL\\anaconda3\\Lib\\site-packages\\matplotlib\\image.py:132\u001b[0m, in \u001b[0;36m_draw_list_compositing_images\u001b[1;34m(renderer, parent, artists, suppress_composite)\u001b[0m\n\u001b[0;32m    130\u001b[0m \u001b[38;5;28;01mif\u001b[39;00m not_composite \u001b[38;5;129;01mor\u001b[39;00m \u001b[38;5;129;01mnot\u001b[39;00m has_images:\n\u001b[0;32m    131\u001b[0m     \u001b[38;5;28;01mfor\u001b[39;00m a \u001b[38;5;129;01min\u001b[39;00m artists:\n\u001b[1;32m--> 132\u001b[0m         a\u001b[38;5;241m.\u001b[39mdraw(renderer)\n\u001b[0;32m    133\u001b[0m \u001b[38;5;28;01melse\u001b[39;00m:\n\u001b[0;32m    134\u001b[0m     \u001b[38;5;66;03m# Composite any adjacent images together\u001b[39;00m\n\u001b[0;32m    135\u001b[0m     image_group \u001b[38;5;241m=\u001b[39m []\n",
            "File \u001b[1;32mc:\\Users\\DELL\\anaconda3\\Lib\\site-packages\\matplotlib\\artist.py:72\u001b[0m, in \u001b[0;36mallow_rasterization.<locals>.draw_wrapper\u001b[1;34m(artist, renderer)\u001b[0m\n\u001b[0;32m     69\u001b[0m     \u001b[38;5;28;01mif\u001b[39;00m artist\u001b[38;5;241m.\u001b[39mget_agg_filter() \u001b[38;5;129;01mis\u001b[39;00m \u001b[38;5;129;01mnot\u001b[39;00m \u001b[38;5;28;01mNone\u001b[39;00m:\n\u001b[0;32m     70\u001b[0m         renderer\u001b[38;5;241m.\u001b[39mstart_filter()\n\u001b[1;32m---> 72\u001b[0m     \u001b[38;5;28;01mreturn\u001b[39;00m draw(artist, renderer)\n\u001b[0;32m     73\u001b[0m \u001b[38;5;28;01mfinally\u001b[39;00m:\n\u001b[0;32m     74\u001b[0m     \u001b[38;5;28;01mif\u001b[39;00m artist\u001b[38;5;241m.\u001b[39mget_agg_filter() \u001b[38;5;129;01mis\u001b[39;00m \u001b[38;5;129;01mnot\u001b[39;00m \u001b[38;5;28;01mNone\u001b[39;00m:\n",
            "File \u001b[1;32mc:\\Users\\DELL\\anaconda3\\Lib\\site-packages\\matplotlib\\axes\\_base.py:3137\u001b[0m, in \u001b[0;36m_AxesBase.draw\u001b[1;34m(self, renderer)\u001b[0m\n\u001b[0;32m   3134\u001b[0m \u001b[38;5;28;01mif\u001b[39;00m artists_rasterized:\n\u001b[0;32m   3135\u001b[0m     _draw_rasterized(\u001b[38;5;28mself\u001b[39m\u001b[38;5;241m.\u001b[39mfigure, artists_rasterized, renderer)\n\u001b[1;32m-> 3137\u001b[0m mimage\u001b[38;5;241m.\u001b[39m_draw_list_compositing_images(\n\u001b[0;32m   3138\u001b[0m     renderer, \u001b[38;5;28mself\u001b[39m, artists, \u001b[38;5;28mself\u001b[39m\u001b[38;5;241m.\u001b[39mfigure\u001b[38;5;241m.\u001b[39msuppressComposite)\n\u001b[0;32m   3140\u001b[0m renderer\u001b[38;5;241m.\u001b[39mclose_group(\u001b[38;5;124m'\u001b[39m\u001b[38;5;124maxes\u001b[39m\u001b[38;5;124m'\u001b[39m)\n\u001b[0;32m   3141\u001b[0m \u001b[38;5;28mself\u001b[39m\u001b[38;5;241m.\u001b[39mstale \u001b[38;5;241m=\u001b[39m \u001b[38;5;28;01mFalse\u001b[39;00m\n",
            "File \u001b[1;32mc:\\Users\\DELL\\anaconda3\\Lib\\site-packages\\matplotlib\\image.py:132\u001b[0m, in \u001b[0;36m_draw_list_compositing_images\u001b[1;34m(renderer, parent, artists, suppress_composite)\u001b[0m\n\u001b[0;32m    130\u001b[0m \u001b[38;5;28;01mif\u001b[39;00m not_composite \u001b[38;5;129;01mor\u001b[39;00m \u001b[38;5;129;01mnot\u001b[39;00m has_images:\n\u001b[0;32m    131\u001b[0m     \u001b[38;5;28;01mfor\u001b[39;00m a \u001b[38;5;129;01min\u001b[39;00m artists:\n\u001b[1;32m--> 132\u001b[0m         a\u001b[38;5;241m.\u001b[39mdraw(renderer)\n\u001b[0;32m    133\u001b[0m \u001b[38;5;28;01melse\u001b[39;00m:\n\u001b[0;32m    134\u001b[0m     \u001b[38;5;66;03m# Composite any adjacent images together\u001b[39;00m\n\u001b[0;32m    135\u001b[0m     image_group \u001b[38;5;241m=\u001b[39m []\n",
            "File \u001b[1;32mc:\\Users\\DELL\\anaconda3\\Lib\\site-packages\\matplotlib\\artist.py:72\u001b[0m, in \u001b[0;36mallow_rasterization.<locals>.draw_wrapper\u001b[1;34m(artist, renderer)\u001b[0m\n\u001b[0;32m     69\u001b[0m     \u001b[38;5;28;01mif\u001b[39;00m artist\u001b[38;5;241m.\u001b[39mget_agg_filter() \u001b[38;5;129;01mis\u001b[39;00m \u001b[38;5;129;01mnot\u001b[39;00m \u001b[38;5;28;01mNone\u001b[39;00m:\n\u001b[0;32m     70\u001b[0m         renderer\u001b[38;5;241m.\u001b[39mstart_filter()\n\u001b[1;32m---> 72\u001b[0m     \u001b[38;5;28;01mreturn\u001b[39;00m draw(artist, renderer)\n\u001b[0;32m     73\u001b[0m \u001b[38;5;28;01mfinally\u001b[39;00m:\n\u001b[0;32m     74\u001b[0m     \u001b[38;5;28;01mif\u001b[39;00m artist\u001b[38;5;241m.\u001b[39mget_agg_filter() \u001b[38;5;129;01mis\u001b[39;00m \u001b[38;5;129;01mnot\u001b[39;00m \u001b[38;5;28;01mNone\u001b[39;00m:\n",
            "File \u001b[1;32mc:\\Users\\DELL\\anaconda3\\Lib\\site-packages\\matplotlib\\axis.py:1427\u001b[0m, in \u001b[0;36mAxis.draw\u001b[1;34m(self, renderer)\u001b[0m\n\u001b[0;32m   1424\u001b[0m tlb1, tlb2 \u001b[38;5;241m=\u001b[39m \u001b[38;5;28mself\u001b[39m\u001b[38;5;241m.\u001b[39m_get_ticklabel_bboxes(ticks_to_draw, renderer)\n\u001b[0;32m   1426\u001b[0m \u001b[38;5;28;01mfor\u001b[39;00m tick \u001b[38;5;129;01min\u001b[39;00m ticks_to_draw:\n\u001b[1;32m-> 1427\u001b[0m     tick\u001b[38;5;241m.\u001b[39mdraw(renderer)\n\u001b[0;32m   1429\u001b[0m \u001b[38;5;66;03m# Shift label away from axes to avoid overlapping ticklabels.\u001b[39;00m\n\u001b[0;32m   1430\u001b[0m \u001b[38;5;28mself\u001b[39m\u001b[38;5;241m.\u001b[39m_update_label_position(renderer)\n",
            "File \u001b[1;32mc:\\Users\\DELL\\anaconda3\\Lib\\site-packages\\matplotlib\\artist.py:72\u001b[0m, in \u001b[0;36mallow_rasterization.<locals>.draw_wrapper\u001b[1;34m(artist, renderer)\u001b[0m\n\u001b[0;32m     69\u001b[0m     \u001b[38;5;28;01mif\u001b[39;00m artist\u001b[38;5;241m.\u001b[39mget_agg_filter() \u001b[38;5;129;01mis\u001b[39;00m \u001b[38;5;129;01mnot\u001b[39;00m \u001b[38;5;28;01mNone\u001b[39;00m:\n\u001b[0;32m     70\u001b[0m         renderer\u001b[38;5;241m.\u001b[39mstart_filter()\n\u001b[1;32m---> 72\u001b[0m     \u001b[38;5;28;01mreturn\u001b[39;00m draw(artist, renderer)\n\u001b[0;32m     73\u001b[0m \u001b[38;5;28;01mfinally\u001b[39;00m:\n\u001b[0;32m     74\u001b[0m     \u001b[38;5;28;01mif\u001b[39;00m artist\u001b[38;5;241m.\u001b[39mget_agg_filter() \u001b[38;5;129;01mis\u001b[39;00m \u001b[38;5;129;01mnot\u001b[39;00m \u001b[38;5;28;01mNone\u001b[39;00m:\n",
            "File \u001b[1;32mc:\\Users\\DELL\\anaconda3\\Lib\\site-packages\\matplotlib\\axis.py:277\u001b[0m, in \u001b[0;36mTick.draw\u001b[1;34m(self, renderer)\u001b[0m\n\u001b[0;32m    274\u001b[0m renderer\u001b[38;5;241m.\u001b[39mopen_group(\u001b[38;5;28mself\u001b[39m\u001b[38;5;241m.\u001b[39m\u001b[38;5;18m__name__\u001b[39m, gid\u001b[38;5;241m=\u001b[39m\u001b[38;5;28mself\u001b[39m\u001b[38;5;241m.\u001b[39mget_gid())\n\u001b[0;32m    275\u001b[0m \u001b[38;5;28;01mfor\u001b[39;00m artist \u001b[38;5;129;01min\u001b[39;00m [\u001b[38;5;28mself\u001b[39m\u001b[38;5;241m.\u001b[39mgridline, \u001b[38;5;28mself\u001b[39m\u001b[38;5;241m.\u001b[39mtick1line, \u001b[38;5;28mself\u001b[39m\u001b[38;5;241m.\u001b[39mtick2line,\n\u001b[0;32m    276\u001b[0m                \u001b[38;5;28mself\u001b[39m\u001b[38;5;241m.\u001b[39mlabel1, \u001b[38;5;28mself\u001b[39m\u001b[38;5;241m.\u001b[39mlabel2]:\n\u001b[1;32m--> 277\u001b[0m     artist\u001b[38;5;241m.\u001b[39mdraw(renderer)\n\u001b[0;32m    278\u001b[0m renderer\u001b[38;5;241m.\u001b[39mclose_group(\u001b[38;5;28mself\u001b[39m\u001b[38;5;241m.\u001b[39m\u001b[38;5;18m__name__\u001b[39m)\n\u001b[0;32m    279\u001b[0m \u001b[38;5;28mself\u001b[39m\u001b[38;5;241m.\u001b[39mstale \u001b[38;5;241m=\u001b[39m \u001b[38;5;28;01mFalse\u001b[39;00m\n",
            "File \u001b[1;32mc:\\Users\\DELL\\anaconda3\\Lib\\site-packages\\matplotlib\\artist.py:72\u001b[0m, in \u001b[0;36mallow_rasterization.<locals>.draw_wrapper\u001b[1;34m(artist, renderer)\u001b[0m\n\u001b[0;32m     69\u001b[0m     \u001b[38;5;28;01mif\u001b[39;00m artist\u001b[38;5;241m.\u001b[39mget_agg_filter() \u001b[38;5;129;01mis\u001b[39;00m \u001b[38;5;129;01mnot\u001b[39;00m \u001b[38;5;28;01mNone\u001b[39;00m:\n\u001b[0;32m     70\u001b[0m         renderer\u001b[38;5;241m.\u001b[39mstart_filter()\n\u001b[1;32m---> 72\u001b[0m     \u001b[38;5;28;01mreturn\u001b[39;00m draw(artist, renderer)\n\u001b[0;32m     73\u001b[0m \u001b[38;5;28;01mfinally\u001b[39;00m:\n\u001b[0;32m     74\u001b[0m     \u001b[38;5;28;01mif\u001b[39;00m artist\u001b[38;5;241m.\u001b[39mget_agg_filter() \u001b[38;5;129;01mis\u001b[39;00m \u001b[38;5;129;01mnot\u001b[39;00m \u001b[38;5;28;01mNone\u001b[39;00m:\n",
            "File \u001b[1;32mc:\\Users\\DELL\\anaconda3\\Lib\\site-packages\\matplotlib\\text.py:751\u001b[0m, in \u001b[0;36mText.draw\u001b[1;34m(self, renderer)\u001b[0m\n\u001b[0;32m    748\u001b[0m renderer\u001b[38;5;241m.\u001b[39mopen_group(\u001b[38;5;124m'\u001b[39m\u001b[38;5;124mtext\u001b[39m\u001b[38;5;124m'\u001b[39m, \u001b[38;5;28mself\u001b[39m\u001b[38;5;241m.\u001b[39mget_gid())\n\u001b[0;32m    750\u001b[0m \u001b[38;5;28;01mwith\u001b[39;00m \u001b[38;5;28mself\u001b[39m\u001b[38;5;241m.\u001b[39m_cm_set(text\u001b[38;5;241m=\u001b[39m\u001b[38;5;28mself\u001b[39m\u001b[38;5;241m.\u001b[39m_get_wrapped_text()):\n\u001b[1;32m--> 751\u001b[0m     bbox, info, descent \u001b[38;5;241m=\u001b[39m \u001b[38;5;28mself\u001b[39m\u001b[38;5;241m.\u001b[39m_get_layout(renderer)\n\u001b[0;32m    752\u001b[0m     trans \u001b[38;5;241m=\u001b[39m \u001b[38;5;28mself\u001b[39m\u001b[38;5;241m.\u001b[39mget_transform()\n\u001b[0;32m    754\u001b[0m     \u001b[38;5;66;03m# don't use self.get_position here, which refers to text\u001b[39;00m\n\u001b[0;32m    755\u001b[0m     \u001b[38;5;66;03m# position in Text:\u001b[39;00m\n",
            "File \u001b[1;32mc:\\Users\\DELL\\anaconda3\\Lib\\site-packages\\matplotlib\\text.py:381\u001b[0m, in \u001b[0;36mText._get_layout\u001b[1;34m(self, renderer)\u001b[0m\n\u001b[0;32m    379\u001b[0m clean_line, ismath \u001b[38;5;241m=\u001b[39m \u001b[38;5;28mself\u001b[39m\u001b[38;5;241m.\u001b[39m_preprocess_math(line)\n\u001b[0;32m    380\u001b[0m \u001b[38;5;28;01mif\u001b[39;00m clean_line:\n\u001b[1;32m--> 381\u001b[0m     w, h, d \u001b[38;5;241m=\u001b[39m _get_text_metrics_with_cache(\n\u001b[0;32m    382\u001b[0m         renderer, clean_line, \u001b[38;5;28mself\u001b[39m\u001b[38;5;241m.\u001b[39m_fontproperties,\n\u001b[0;32m    383\u001b[0m         ismath\u001b[38;5;241m=\u001b[39mismath, dpi\u001b[38;5;241m=\u001b[39m\u001b[38;5;28mself\u001b[39m\u001b[38;5;241m.\u001b[39mfigure\u001b[38;5;241m.\u001b[39mdpi)\n\u001b[0;32m    384\u001b[0m \u001b[38;5;28;01melse\u001b[39;00m:\n\u001b[0;32m    385\u001b[0m     w \u001b[38;5;241m=\u001b[39m h \u001b[38;5;241m=\u001b[39m d \u001b[38;5;241m=\u001b[39m \u001b[38;5;241m0\u001b[39m\n",
            "File \u001b[1;32mc:\\Users\\DELL\\anaconda3\\Lib\\site-packages\\matplotlib\\text.py:69\u001b[0m, in \u001b[0;36m_get_text_metrics_with_cache\u001b[1;34m(renderer, text, fontprop, ismath, dpi)\u001b[0m\n\u001b[0;32m     66\u001b[0m \u001b[38;5;250m\u001b[39m\u001b[38;5;124;03m\"\"\"Call ``renderer.get_text_width_height_descent``, caching the results.\"\"\"\u001b[39;00m\n\u001b[0;32m     67\u001b[0m \u001b[38;5;66;03m# Cached based on a copy of fontprop so that later in-place mutations of\u001b[39;00m\n\u001b[0;32m     68\u001b[0m \u001b[38;5;66;03m# the passed-in argument do not mess up the cache.\u001b[39;00m\n\u001b[1;32m---> 69\u001b[0m \u001b[38;5;28;01mreturn\u001b[39;00m _get_text_metrics_with_cache_impl(\n\u001b[0;32m     70\u001b[0m     weakref\u001b[38;5;241m.\u001b[39mref(renderer), text, fontprop\u001b[38;5;241m.\u001b[39mcopy(), ismath, dpi)\n",
            "File \u001b[1;32mc:\\Users\\DELL\\anaconda3\\Lib\\site-packages\\matplotlib\\text.py:77\u001b[0m, in \u001b[0;36m_get_text_metrics_with_cache_impl\u001b[1;34m(renderer_ref, text, fontprop, ismath, dpi)\u001b[0m\n\u001b[0;32m     73\u001b[0m \u001b[38;5;129m@functools\u001b[39m\u001b[38;5;241m.\u001b[39mlru_cache(\u001b[38;5;241m4096\u001b[39m)\n\u001b[0;32m     74\u001b[0m \u001b[38;5;28;01mdef\u001b[39;00m \u001b[38;5;21m_get_text_metrics_with_cache_impl\u001b[39m(\n\u001b[0;32m     75\u001b[0m         renderer_ref, text, fontprop, ismath, dpi):\n\u001b[0;32m     76\u001b[0m     \u001b[38;5;66;03m# dpi is unused, but participates in cache invalidation (via the renderer).\u001b[39;00m\n\u001b[1;32m---> 77\u001b[0m     \u001b[38;5;28;01mreturn\u001b[39;00m renderer_ref()\u001b[38;5;241m.\u001b[39mget_text_width_height_descent(text, fontprop, ismath)\n",
            "File \u001b[1;32mc:\\Users\\DELL\\anaconda3\\Lib\\site-packages\\matplotlib\\backends\\backend_agg.py:220\u001b[0m, in \u001b[0;36mRendererAgg.get_text_width_height_descent\u001b[1;34m(self, s, prop, ismath)\u001b[0m\n\u001b[0;32m    217\u001b[0m     \u001b[38;5;28;01mreturn\u001b[39;00m width, height, descent\n\u001b[0;32m    219\u001b[0m font \u001b[38;5;241m=\u001b[39m \u001b[38;5;28mself\u001b[39m\u001b[38;5;241m.\u001b[39m_prepare_font(prop)\n\u001b[1;32m--> 220\u001b[0m font\u001b[38;5;241m.\u001b[39mset_text(s, \u001b[38;5;241m0.0\u001b[39m, flags\u001b[38;5;241m=\u001b[39mget_hinting_flag())\n\u001b[0;32m    221\u001b[0m w, h \u001b[38;5;241m=\u001b[39m font\u001b[38;5;241m.\u001b[39mget_width_height()  \u001b[38;5;66;03m# width and height of unrotated string\u001b[39;00m\n\u001b[0;32m    222\u001b[0m d \u001b[38;5;241m=\u001b[39m font\u001b[38;5;241m.\u001b[39mget_descent()\n",
            "\u001b[1;31mKeyboardInterrupt\u001b[0m: "
          ]
        }
      ],
      "source": [
        "categorical_features = data.select_dtypes(include=['object']).columns\n",
        "n_cols_cat = 3\n",
        "n_rows_cat = (len(categorical_features) + n_cols_cat - 1) // n_cols_cat\n",
        "\n",
        "plt.figure(figsize=(n_cols_cat * 5, n_rows_cat * 4))\n",
        "\n",
        "for i, col in enumerate(categorical_features):\n",
        "    plt.subplot(n_rows_cat, n_cols_cat, i + 1)\n",
        "    data[col].value_counts(normalize=True).plot(kind='bar')\n",
        "    plt.title(col)\n",
        "    plt.xticks(rotation=45, ha='right')\n",
        "\n",
        "plt.tight_layout()\n",
        "\n",
        "plt.show()"
      ]
    },
    {
      "cell_type": "markdown",
      "metadata": {
        "id": "l27-bXS3ina8"
      },
      "source": [
        " Observations:\n",
        "\n",
        "FirstTimeHomebuyer: majority non-first-time buyers (N).\n",
        "\n",
        "Occupancy: majority of primary residences (O).\n",
        "\n",
        "ProductType: 100% \"FRM\" (Fixed Rate Mortgage), therefore variable useless (delete).\n",
        "\n",
        "Channel and LoanPurpose: well distributed, interesting variables.\n",
        "\n",
        "PPM: 95% in N, therefore very unbalanced → keep with caution.\n",
        "\n",
        "PropertyState, PostalCode, ServicerName: widely dispersed, beware of one-hot encoding explosion → group rare categories together."
      ]
    },
    {
      "cell_type": "markdown",
      "metadata": {
        "id": "MK3jWp_YmgxF"
      },
      "source": [
        "Corrélation entre les variables numériques"
      ]
    },
    {
      "cell_type": "code",
      "execution_count": null,
      "metadata": {
        "id": "Ix5sqbKN9ZES"
      },
      "outputs": [],
      "source": [
        "import matplotlib.pyplot as plt\n",
        "import numpy as np\n",
        "import seaborn as sns\n",
        "\n",
        "plt.figure(figsize=(10, 8))\n",
        "corr = data[numerical_values].corr()\n",
        "sns.heatmap(corr, annot=True, fmt=\".2f\", cmap='coolwarm', center=0)\n",
        "plt.title(\"Corrélation incluant Prepaid\")\n",
        "plt.tight_layout()\n",
        "plt.show()"
      ]
    },
    {
      "cell_type": "markdown",
      "metadata": {
        "id": "HAaMHtiF4FNj"
      },
      "source": [
        "LTV, OCLTV, MIP are correlated with each other (~0.7), which is logical (all related to financing).\n",
        "\n",
        "OrigLoanTerm weakly correlated with the others except FirstPaymentDate (because some durations ≠ 360?) and MaturityDate.\n",
        "\n",
        "EverDelinquent is moderately correlated with MonthsDelinquent and MonthsInRepayment → good signal"
      ]
    },
    {
      "cell_type": "markdown",
      "metadata": {
        "id": "L_eMN6ZxmmvK"
      },
      "source": [
        "Visualisation vs la variable Prepaid_Proxy"
      ]
    },
    {
      "cell_type": "code",
      "execution_count": null,
      "metadata": {
        "id": "CfbmsGtw9ZBF"
      },
      "outputs": [],
      "source": [
        "n_cols_box = 3\n",
        "n_rows_box = (len(numerical_values) + n_cols_box - 1) // n_cols_box\n",
        "\n",
        "plt.figure(figsize=(n_cols_box * 6, n_rows_box * 4))\n",
        "\n",
        "for i, col in enumerate(numerical_values):\n",
        "    plt.subplot(n_rows_box, n_cols_box, i + 1)\n",
        "    sns.boxplot(x='Prepaid_Proxy', y=col, data=data)\n",
        "    plt.title(f\"{col} vs Prepaid_Proxy\")\n",
        "\n",
        "plt.tight_layout()\n",
        "plt.show()\n"
      ]
    },
    {
      "cell_type": "markdown",
      "metadata": {
        "id": "zdQA9TUs1pPD"
      },
      "source": [
        " Analysis of numerical variables in relation to Prepaid_Proxy\n",
        "To better understand the factors influencing the risk of prepayment (Prepaid_Proxy), we visualized the distribution of numerical variables by class (0 = not Prepaid_Proxy, 1 = Prepaid_Proxy) via boxplots.\n",
        "\n",
        " Key observations:\n",
        "MonthsInRepayment :\n",
        "\n",
        "Loans repaid early (1) logically have a much shorter repayment period than those not repaid (0).\n",
        "\n",
        "This behavior validates the correct construction of the target variable.\n",
        "\n",
        "OrigLoanTerm:\n",
        "\n",
        "Most loans have a fixed term of 360 months, with little variance.\n",
        "\n",
        "This field provides no discriminating information → candidate for deletion.\n",
        "\n",
        "OrigUPB, LTV, OCLTV, DTI, CreditScore:\n",
        "\n",
        "These variables show interesting variations between the two groups:\n",
        "\n",
        "Loans repaid early tend to have:\n",
        "\n",
        "A slightly higher initial loan amount (OrigUPB).\n",
        "\n",
        "A slightly higher LTV/OCLTV value.\n",
        "\n",
        "A slightly lower DTI.\n",
        "\n",
        "A slightly higher credit score.\n",
        "\n",
        "These financial indicators are therefore informatively relevant.\n",
        "\n",
        "OrigInterestRate:\n",
        "\n",
        "Borrowers who have Prepaid_Proxy have slightly higher interest rates.\n",
        "\n",
        "This could indicate more frequent refinancing among them → relevant variable.\n",
        "\n",
        "EverDelinquent:\n",
        "\n",
        "Loans repaid early are very rarely in default.\n",
        "\n",
        "Conversely, loans that have not been repaid parf"
      ]
    },
    {
      "cell_type": "code",
      "execution_count": 8,
      "metadata": {
        "id": "svMUft5-Gvwb"
      },
      "outputs": [
        {
          "name": "stdout",
          "output_type": "stream",
          "text": [
            "\n",
            "T-test p-values by feature:\n",
            "                          p-value\n",
            "CreditScore         0.000000e+00\n",
            "OrigUPB             0.000000e+00\n",
            "EverDelinquent      0.000000e+00\n",
            "MonthsDelinquent    0.000000e+00\n",
            "MonthsInRepayment   0.000000e+00\n",
            "OrigInterestRate   7.956107e-166\n",
            "LTV                 1.430478e-62\n",
            "OCLTV               1.463322e-62\n",
            "MIP                 5.221221e-35\n",
            "DTI                 4.429961e-30\n",
            "Units               3.299554e-27\n",
            "FirstPaymentDate    4.690049e-14\n",
            "OrigLoanTerm        1.665613e-08\n",
            "MaturityDate        9.957028e-01\n"
          ]
        }
      ],
      "source": [
        "from scipy.stats import ttest_ind, f_oneway\n",
        "import pandas as pd\n",
        "\n",
        "# Supposons que data soit ton DataFrame\n",
        "group0 = data[data['Prepaid_Proxy'] == 0]\n",
        "group1 = data[data['Prepaid_Proxy'] == 1]\n",
        "\n",
        "ttest_results = {}\n",
        "\n",
        "for col in numerical_values:\n",
        "    try:\n",
        "        stat, p = ttest_ind(group0[col].dropna(), group1[col].dropna(), equal_var=False)\n",
        "        ttest_results[col] = p\n",
        "    except Exception as e:\n",
        "        ttest_results[col] = f\"Error: {e}\"\n",
        "\n",
        "# Résultats triés par p-value\n",
        "ttest_results_data = pd.DataFrame.from_dict(ttest_results, orient='index', columns=['p-value']).sort_values(by='p-value')\n",
        "print(\"\\nT-test p-values by feature:\\n\", ttest_results_data)\n"
      ]
    },
    {
      "cell_type": "markdown",
      "metadata": {},
      "source": [
        "we can Keep the following variables:\n",
        "CreditScore, OrigUPB, EverDelinquent, MonthsDelinquent, MonthsInRepayment,\n",
        "OrigInterestRate, LTV, OCLTV, DTI,MIP, Units, FirstPaymentDate.\n",
        "\n",
        "and Drop due to redundancy or lack of significance:\n",
        "MaturityDate, possibly OrigLoanTerm (low variance).\n",
        "\n"
      ]
    },
    {
      "cell_type": "code",
      "execution_count": 20,
      "metadata": {},
      "outputs": [],
      "source": [
        "data.drop(columns=['MaturityDate'], inplace=True)\n"
      ]
    },
    {
      "cell_type": "code",
      "execution_count": 14,
      "metadata": {
        "id": "RiqDZzgMGui7"
      },
      "outputs": [
        {
          "name": "stdout",
          "output_type": "stream",
          "text": [
            "\n",
            "✅ Chi² test p-values by categorical feature:\n",
            "\n",
            "                          p-value\n",
            "MSA                  0.000000e+00\n",
            "PropertyState        0.000000e+00\n",
            "PostalCode           0.000000e+00\n",
            "NumBorrowers         0.000000e+00\n",
            "ServicerName         0.000000e+00\n",
            "LoanPurpose         1.255643e-122\n",
            "Occupancy            4.870520e-95\n",
            "PropertyType         6.086852e-87\n",
            "PPM                  1.637109e-69\n",
            "FirstTimeHomebuyer   1.173935e-30\n",
            "Channel              5.171384e-22\n",
            "LoanSeqNum           4.991291e-01\n",
            "ProductType          1.000000e+00\n",
            "\n",
            "⚠️ Features skipped due to errors:\n",
            "\n",
            "SellerName: Error: 'SellerName'\n"
          ]
        }
      ],
      "source": [
        "from scipy.stats import chi2_contingency\n",
        "\n",
        "chi2_results = {}\n",
        "for col in categorical_features:  # liste de tes variables catégorielles\n",
        "    try:\n",
        "        contingency_table = pd.crosstab(data[col], data['Prepaid_Proxy'])\n",
        "        stat, p, dof, expected = chi2_contingency(contingency_table)\n",
        "        chi2_results[col] = p\n",
        "    except Exception as e:\n",
        "        chi2_results[col] = f\"Error: {e}\"\n",
        "\n",
        "# Séparer les résultats valides et les erreurs\n",
        "chi2_valid = {k: v for k, v in chi2_results.items() if isinstance(v, float)}\n",
        "chi2_errors = {k: v for k, v in chi2_results.items() if not isinstance(v, float)}\n",
        "\n",
        "# Créer un DataFrame avec les résultats valides triés\n",
        "chi2_results_data = pd.DataFrame.from_dict(chi2_valid, orient='index', columns=['p-value'])\n",
        "chi2_results_data = chi2_results_data.sort_values(by='p-value')\n",
        "\n",
        "print(\"\\n✅ Chi² test p-values by categorical feature:\\n\")\n",
        "print(chi2_results_data)\n",
        "\n",
        "# Afficher les erreurs à part si besoin\n",
        "if chi2_errors:\n",
        "    print(\"\\n⚠️ Features skipped due to errors:\\n\")\n",
        "    for col, err in chi2_errors.items():\n",
        "        print(f\"{col}: {err}\")"
      ]
    },
    {
      "cell_type": "code",
      "execution_count": null,
      "metadata": {
        "id": "qahhfG6cGufh"
      },
      "outputs": [],
      "source": [
        "for column in data.columns :\n",
        "    print(f'values taken by variable {column} : ')\n",
        "    print(data[column].unique())"
      ]
    },
    {
      "cell_type": "code",
      "execution_count": null,
      "metadata": {
        "id": "1joss_5lGucY"
      },
      "outputs": [],
      "source": [
        "data = data['ProductType'].drop(columns=['ProductType']) #because there is a constante value in the column"
      ]
    },
    {
      "cell_type": "code",
      "execution_count": 16,
      "metadata": {
        "id": "cLvQvlQoGuZa"
      },
      "outputs": [
        {
          "data": {
            "text/plain": [
              "array(['F199Q1268030', 'F199Q1015092', 'F199Q1266886', ...,\n",
              "       'F199Q1401282', 'F199Q1220924', 'F199Q1220923'], dtype=object)"
            ]
          },
          "execution_count": 16,
          "metadata": {},
          "output_type": "execute_result"
        }
      ],
      "source": [
        "data['LoanSeqNum'].unique()"
      ]
    },
    {
      "cell_type": "markdown",
      "metadata": {},
      "source": [
        "### ✅ Chi² Test Analysis for Categorical Variables\n",
        "\n",
        "After performing the Chi² test of independence to evaluate associations between categorical variables and the target `Prepaid_Proxy`, we found the following:\n",
        "\n",
        "#### 🔹 Variables significantly associated with the target (p < 0.05):\n",
        "\n",
        "| Variable              | Interpretation                                                                 |\n",
        "|-----------------------|---------------------------------------------------------------------------------|\n",
        "| `MSA`                 | Geographical area may influence prepayment behavior.                           |\n",
        "| `PropertyState`       | The property’s state is a potential influencing factor.                        |\n",
        "| `PostalCode`          | Fine-grained location — may be grouped or dimensionality reduced.              |\n",
        "| `NumBorrowers`        | The number of borrowers affects prepayment likelihood.                         |\n",
        "| `ServicerName`        | Loan servicer may influence repayment management.                              |\n",
        "| `LoanPurpose`         | Direct impact (e.g., home purchase vs. refinancing).                           |\n",
        "| `Occupancy`           | Occupancy status (e.g., primary residence) is relevant.                        |\n",
        "| `PropertyType`        | The type of property affects borrower behavior.                                |\n",
        "| `PPM`                 | Prepayment penalty flag — economically meaningful.                             |\n",
        "| `FirstTimeHomebuyer`  | First-time buyers behave differently in terms of prepayment.                   |\n",
        "| `Channel`             | Distribution channel (e.g., broker, retail) may impact the loan dynamics.      |\n",
        "\n",
        "#### 🔹 Variables **not significantly associated** with the target (p ≥ 0.05):\n",
        "\n",
        "| Variable       | Decision     | Reason                                                   |\n",
        "|----------------|--------------|----------------------------------------------------------|\n",
        "| `LoanSeqNum`   | Remove       | Unique identifier — not informative.                    |\n",
        "| `ProductType`  | Remove       | Very skewed or constant — no predictive power.          |\n",
        "\n",
        "#### ⚠️ Skipped due to errors:\n",
        "- `SellerName`: Skipped due to missing values. Consider dropping or imputing if needed.\n"
      ]
    },
    {
      "cell_type": "code",
      "execution_count": null,
      "metadata": {
        "id": "6AgzLqlTGuWB"
      },
      "outputs": [],
      "source": [
        "data.drop(columns=['LoanSeqNum'], inplace=True) #cause it is not useful for the analysis \n",
        "data['ProductType'] = data.drop(columns=['ProductType']) #because there is a constante value in the column"
      ]
    },
    {
      "cell_type": "markdown",
      "metadata": {},
      "source": [
        "encodage"
      ]
    },
    {
      "cell_type": "code",
      "execution_count": 19,
      "metadata": {
        "id": "HtMhMLAu9Y-Z"
      },
      "outputs": [
        {
          "name": "stdout",
          "output_type": "stream",
          "text": [
            "values taken by variable FirstTimeHomebuyer : \n",
            "['N' 'X' 'Y']\n",
            "--------------------------------------------------------------------------------\n",
            "values taken by variable MSA : \n",
            "['16974' '19740' '29940' '31084' '35644' 'X    ' '36740' '25540' '48620'\n",
            " '12060' '12420' '13140' '13644' '15764' '16700' '16940' '17900' '19124'\n",
            " '20500' '20764' '21340' '22380' '22744' '23060' '23104' '24660' '24860'\n",
            " '25060' '26900' '27060' '27140' '27260' '28420' '29404' '30780' '31340'\n",
            " '33124' '33340' '33460' '34820' '35004' '35084' '35380' '37100' '38060'\n",
            " '38300' '38900' '39300' '39340' '39820' '40060' '40140' '40900' '41180'\n",
            " '41620' '41700' '41740' '41884' '42044' '42220' '42644' '43900' '46060'\n",
            " '46700' '47644' '47894' '49180' '49420' '11340' '12100' '14500' '17820'\n",
            " '17860' '19340' '19804' '28140' '29740' '36084' '36500' '37460' '42060'\n",
            " '47260' '48424' '12580' '14484' '14860' '19380' '26420' '29420' '29620'\n",
            " '36540' '37764' '37860' '37964' '38940' '40380' '45300' '19660' '11300'\n",
            " '11460' '12220' '12940' '13820' '13980' '14740' '15540' '16740' '17140'\n",
            " '17460' '17780' '22220' '23420' '23844' '24340' '24780' '26180' '27620'\n",
            " '31420' '31540' '34980' '35300' '39100' '39580' '39900' '40420' '41940'\n",
            " '41980' '42020' '45940' '47300' '48300' '49340' '34100' '35840' '36980'\n",
            " '39140' '43620' '15804' '15940' '29820' '32820' '38860' '40484' '41060'\n",
            " '44140' '45500' '12540' '10740' '10900' '11540' '12260' '12980' '14260'\n",
            " '16180' '16300' '18140' '21140' '22500' '23580' '25260' '26300' '29460'\n",
            " '31140' '31900' '32780' '32900' '33260' '33540' '33700' '34940' '36420'\n",
            " '37340' '37900' '39740' '41500' '42100' '43340' '44700' '45104' '49020'\n",
            " '10420' '10580' '16860' '17980' '22660' '28020' '31020' '35980' '11700'\n",
            " '17660' '19500' '20020' '36780' '36100' '42680' '45220' '48900' '22420'\n",
            " '33860' '28100' '40660' '26820' '49660' '40580' '14060' '24300' '44600'\n",
            " '15980' '23540' '12700' '36260' '30460' '38540' '26620' '45780' '47380'\n",
            " '24580' '18880' '15500' '25420' '41420' '44060' '19140' '39540' '19780'\n",
            " '40340' '34900' '48864' '15380' '20260' '25860' '29140' '42340' '21780'\n",
            " '34740' '33780' '35660' '26580' '24540' '41100' '29540' '21660' '27500'\n",
            " '43780' '30860' '28940' '46140' '44100' '22180' '45460' '42540' '33660'\n",
            " '49740' '15260' '45060' '13900' '43300' '24140' '31700' '19260' '31180'\n",
            " '32580' '18020' '18700' '12020' '27900' '19460' '47220' '27340' '37380'\n",
            " '11180' '44180' '39460' '26100' '29020' '40980' '47580' '27180' '15180'\n",
            " '20740' '46660' '13740' '13460' '20940' '21300' '43580' '49620' '19180'\n",
            " '27740' '30340' '39380' '48140' '49700' '47940' '43100' '27100' '16620'\n",
            " '27860' '30620' '20100' '41780' '31860' '17020' '34580' '10500' '18580'\n",
            " '34620' '17300' '47020' '44940' '30980' '25180' '38220' '13380' '22540'\n",
            " '38340' '22900' '44220' '42140' '22140' '22020' '13020' '30700' '25500'\n",
            " '14540' '22520' '10180' '40220' '46340' '14020' '45820' '16580' '11260'\n",
            " '28700' '21060' '46220' '20220' '29180' '34060' '39660' '11100' '36140'\n",
            " '29100' '16820' '10780' '30140' '26380' '30300' '21820' '28740' '16020'\n",
            " '48660' '12620' '27780' '46540' '25620' '33740' '11020' '24500' '48540'\n",
            " '29700' '21500' '25020' '24220' '31460' '23460' '37700' '41540' '33140'\n",
            " '41660' '30020' '13780' '28660' '16220' '41900' '41140' '37620' '48700'\n",
            " '44300' '24020' '17420' '31740' '29340' '19060' '11500' '26980' '25980'\n",
            " '36220' '10380' '49500' '21940' '32420']\n",
            "--------------------------------------------------------------------------------\n",
            "values taken by variable Occupancy : \n",
            "['O' 'I' 'S']\n",
            "--------------------------------------------------------------------------------\n",
            "values taken by variable Channel : \n",
            "['T' 'R' 'C' 'B']\n",
            "--------------------------------------------------------------------------------\n",
            "values taken by variable PPM : \n",
            "['N' 'X' 'Y']\n",
            "--------------------------------------------------------------------------------\n",
            "values taken by variable ProductType : \n",
            "['FRM  ']\n",
            "--------------------------------------------------------------------------------\n",
            "values taken by variable PropertyState : \n",
            "['IL' 'CO' 'KS' 'CA' 'NJ' 'WI' 'FL' 'CT' 'GA' 'TX' 'MD' 'MA' 'SC' 'WY'\n",
            " 'NC' 'AZ' 'IN' 'MS' 'NY' 'WA' 'AR' 'VA' 'MN' 'LA' 'PA' 'OR' 'RI' 'UT'\n",
            " 'MI' 'TN' 'AL' 'MO' 'IA' 'NM' 'NV' 'VT' 'OH' 'NE' 'HI' 'ID' 'PR' 'DC'\n",
            " 'GU' 'KY' 'NH' 'SD' 'ME' 'MT' 'OK' 'WV' 'DE' 'ND' 'AK']\n",
            "--------------------------------------------------------------------------------\n",
            "values taken by variable PropertyType : \n",
            "['SF' 'PU' 'CO' 'MH' 'CP' 'LH' 'X ']\n",
            "--------------------------------------------------------------------------------\n",
            "values taken by variable PostalCode : \n",
            "['60400' '80200' '66000' ... '33200' '84200' '41300']\n",
            "--------------------------------------------------------------------------------\n",
            "values taken by variable LoanSeqNum : \n",
            "['F199Q1268030' 'F199Q1015092' 'F199Q1266886' ... 'F199Q1401282'\n",
            " 'F199Q1220924' 'F199Q1220923']\n",
            "--------------------------------------------------------------------------------\n",
            "values taken by variable LoanPurpose : \n",
            "['P' 'N' 'C']\n",
            "--------------------------------------------------------------------------------\n",
            "values taken by variable NumBorrowers : \n",
            "['2' '1' 'X ']\n",
            "--------------------------------------------------------------------------------\n",
            "values taken by variable ServicerName : \n",
            "['WASHINGTONMUTUALBANK' 'CHASEHOMEFINANCELLC ' 'GMACMTGECORP        '\n",
            " 'Other servicers     ' 'WELLSFARGOBANKNA   ' 'ABNAMROMTGEGROUPINC'\n",
            " 'BANKOFAMERICANA    ' 'CHASEMANHATTANMTGECO' 'HOMESIDELENDINGINC '\n",
            " 'CHASEMTGECO         ' 'WELLSFARGOHOMEMORTGA' 'PRINCIPALRESIDENTIAL'\n",
            " 'CITIMORTGAGEINC    ' 'JPMORGANCHASEBANKNA' 'BAMORTGAGELLC      '\n",
            " 'NATLCITYMTGECO      ' 'FTMTGESERVICESINC  ' 'SUNTRUSTMORTGAGEINC'\n",
            " 'COUNTRYWIDE         ' 'FIFTHTHIRDBANK      ']\n",
            "--------------------------------------------------------------------------------\n"
          ]
        }
      ],
      "source": [
        "for col in categorical_features:\n",
        "  print(f'values taken by variable {col} : ')\n",
        "  print(data[col].unique())\n",
        "  print('--'*40)\n"
      ]
    },
    {
      "cell_type": "code",
      "execution_count": null,
      "metadata": {
        "id": "AhnrfGqI9Y1N"
      },
      "outputs": [],
      "source": [
        "#manual Encoding of categorical variables \n",
        "data['FirstTimeHomebuyer'] = data['FirstTimeHomebuyer'].map({'N': 0, 'X': -1, 'Y': 1})\n",
        "data['Occupancy'] = data['Occupancy'].map({'O': 0, 'I': 1, 'S': 2})\n",
        "data['Channel'] = data['Channel'].map({'T': 0, 'R': 1, 'C': 2, 'B': 3})\n",
        "data['PPM'] = data['PPM'].map({'N': 0, 'X': -1, 'Y': 1})\n",
        "data['LoanPurpose'] = data['LoanPurpose'].map({'P': 0, 'N': 1, 'C': 2})\n",
        "data['NumBorrowers'] = data['NumBorrowers'].map({'1': 1, '2': 2, 'X ': 0})\n"
      ]
    },
    {
      "cell_type": "code",
      "execution_count": 29,
      "metadata": {
        "id": "YNywbP5gE9Cl"
      },
      "outputs": [],
      "source": [
        "# Grouper les 20 MSA les plus fréquents\n",
        "top_msa = data['MSA'].value_counts().nlargest(20).index\n",
        "data['MSA'] = data['MSA'].apply(lambda x: x if x in top_msa else 'OTHER')\n"
      ]
    },
    {
      "cell_type": "code",
      "execution_count": 28,
      "metadata": {
        "id": "JGpXNWAoE8_F"
      },
      "outputs": [
        {
          "data": {
            "text/plain": [
              "20"
            ]
          },
          "execution_count": 28,
          "metadata": {},
          "output_type": "execute_result"
        }
      ],
      "source": [
        "len(data['ServicerName'].unique())"
      ]
    },
    {
      "cell_type": "code",
      "execution_count": 30,
      "metadata": {
        "id": "GREVcdKXE81e"
      },
      "outputs": [
        {
          "data": {
            "text/plain": [
              "array(['16974', '19740', 'OTHER', '31084', '35644', 'X    ', '12060',\n",
              "       '19124', '33460', '38060', '38900', '40140', '41740', '42044',\n",
              "       '42644', '47644', '47894', '36084', '26420', '45300', '17140'],\n",
              "      dtype=object)"
            ]
          },
          "execution_count": 30,
          "metadata": {},
          "output_type": "execute_result"
        }
      ],
      "source": [
        "data['MSA'].unique()"
      ]
    }
  ],
  "metadata": {
    "colab": {
      "provenance": []
    },
    "kernelspec": {
      "display_name": "base",
      "language": "python",
      "name": "python3"
    },
    "language_info": {
      "codemirror_mode": {
        "name": "ipython",
        "version": 3
      },
      "file_extension": ".py",
      "mimetype": "text/x-python",
      "name": "python",
      "nbconvert_exporter": "python",
      "pygments_lexer": "ipython3",
      "version": "3.12.7"
    }
  },
  "nbformat": 4,
  "nbformat_minor": 0
}
